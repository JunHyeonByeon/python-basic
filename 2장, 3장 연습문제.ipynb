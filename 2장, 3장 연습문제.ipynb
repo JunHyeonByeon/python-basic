{
 "cells": [
  {
   "cell_type": "markdown",
   "metadata": {},
   "source": [
    "# 2장 연습문제 파이썬의 기본 문법"
   ]
  },
  {
   "cell_type": "markdown",
   "metadata": {},
   "source": [
    "### 1. 다음은 파이썬에서 많이 사용되는 데이터 형이다. 데이터 형의 정의 및 특징에 대해 설명하시오.\n",
    "\n",
    "(1)숫자 : 정수로 구성된 정수형과 소수점이 있는 실수형 숫자가 있다. ex) -3, 0, 3.14, -38.333\n",
    "\n",
    "(2)문자열 : 하나 또는 다수의 문자로 구성된 데이터 형을 말한다. 단 문자열 앞 뒤에 따옴표(')나 \n",
    "            쌍 따옴표(\")를 붙여야 한다. ex) '가', 'I am happy!', '인공지능'"
   ]
  },
  {
   "cell_type": "markdown",
   "metadata": {},
   "source": [
    "### 2. 다음 프로그램의 실행 결과는?"
   ]
  },
  {
   "cell_type": "code",
   "execution_count": 12,
   "metadata": {},
   "outputs": [
    {
     "name": "stdout",
     "output_type": "stream",
     "text": [
      "-72\n"
     ]
    }
   ],
   "source": [
    "a = 7\n",
    "b = 10\n",
    "\n",
    "c = a + b * 2\n",
    "c %= 5\n",
    "c **= 3\n",
    "c -= c * 10\n",
    "\n",
    "print(c)\n",
    "\n",
    "#실행 결과 : -72"
   ]
  },
  {
   "cell_type": "markdown",
   "metadata": {},
   "source": [
    "### 3. 원의 둘레와 면적을 구하는 프로그램을 작성하시오. 단, 실행 결과는 아래와 정확하게 일치하도록 하고, 반지름은 키보드로 입력받아 처리한다.\n",
    "\n",
    "□ 실행결과\n",
    "\n",
    "반지름을 입력하세요 : 10\n",
    "\n",
    "반지름 : 10 cm\n",
    "\n",
    "원의 둘레 : 62.80 cm\n",
    "\n",
    "원의 면적 : 314.00 cm2"
   ]
  },
  {
   "cell_type": "code",
   "execution_count": 9,
   "metadata": {},
   "outputs": [
    {
     "name": "stdout",
     "output_type": "stream",
     "text": [
      "반지름을 입력하세요 : 10\n",
      "반지름 : 10 cm\n",
      "원의 둘레 : 62.80 cm\n",
      "원의 면적 : 314.00 cm2\n"
     ]
    }
   ],
   "source": [
    "r = int(input('반지름을 입력하세요 : '))\n",
    "\n",
    "length = 2 * 3.14 * r\n",
    "area = r * r * 3.14\n",
    "\n",
    "print('반지름 : %d cm' % r)\n",
    "print('원의 둘레 : %.2f cm' % length)\n",
    "print('원의 면적 : %.2f cm2' % area)"
   ]
  },
  {
   "cell_type": "markdown",
   "metadata": {},
   "source": [
    "### 4. 온라인 서점에서 결제할 금액을 계산하는 프로그램을 작성하시오. 단, 실행결과는 아래와 정확하게 일치하도록 하고, 책 값, 할인율, 배송료는 키보드로 입력 받아 처리한다.\n",
    "\n",
    "※ 힌트 : 결제 금액 = 책 값 - (책 값 * 할인율 / 100) + 배송료\n",
    "\n",
    "□ 실행 결과\n",
    "\n",
    "책 값을 입력하세요 : 15000\n",
    "\n",
    "할인율을 입력하세요(%) : 15\n",
    "\n",
    "배송료를 입력하세요 : 3000\n",
    "\n",
    "결제 금액 : 15750원\n"
   ]
  },
  {
   "cell_type": "code",
   "execution_count": 12,
   "metadata": {},
   "outputs": [
    {
     "name": "stdout",
     "output_type": "stream",
     "text": [
      "책 값을 입력하세요 : 15000\n",
      "할인율을 입력하세요(%) : 15\n",
      "배송료를 입력하세요 : 3000\n",
      "결제 금액 : 15750 원\n"
     ]
    }
   ],
   "source": [
    "a = int(input('책 값을 입력하세요 : '))\n",
    "b = int(input('할인율을 입력하세요(%) : '))\n",
    "c = int(input('배송료를 입력하세요 : '))\n",
    "d = a - (a * b / 100) + c\n",
    "\n",
    "print('결제 금액 : %d 원' % d)"
   ]
  },
  {
   "cell_type": "markdown",
   "metadata": {},
   "source": [
    "### 5. 이름, 현재년, 출생년을 입력받아 나이를 계산하는 프로그램을 작성하시오.\n",
    "\n",
    "※ 힌트 : 나이 = 현재년 - 출생년 + 1\n",
    "\n",
    "□ 실행 결과\n",
    "\n",
    "이름을 입력하세요 : 안지영\n",
    "\n",
    "현재년을 입력하세요 : 2020\n",
    "\n",
    "탄생년을 입력하세요 : 1997\n",
    "\n",
    "안지영님의 나이는 24세 입니다!"
   ]
  },
  {
   "cell_type": "code",
   "execution_count": 16,
   "metadata": {},
   "outputs": [
    {
     "name": "stdout",
     "output_type": "stream",
     "text": [
      "이름을 입력하세요 : 안지영\n",
      "현재년을 입력하세요 : 2020\n",
      "탄생년을 입력하세요 : 1997\n",
      "안지영님의 나이는 24세 입니다!\n"
     ]
    }
   ],
   "source": [
    "name = str(input('이름을 입력하세요 : '))\n",
    "current_year = int(input('현재년을 입력하세요 : '))\n",
    "birth_year = int(input('탄생년을 입력하세요 : '))\n",
    "\n",
    "age = current_year - birth_year + 1\n",
    "\n",
    "print('%s님의 나이는 %d세 입니다!' % (name, age))"
   ]
  },
  {
   "cell_type": "markdown",
   "metadata": {},
   "source": [
    "### 6. 연, 월, 일을 입력받아 ####-##-##의 형태로 출력하는 프로그램을 작성하시오. 단, 실행 결과에서와 같이 월과 일에 1~9의 숫자가 입력되면 그 숫자 앞에 0을 채운다.\n",
    "\n",
    "□ 실행 결과\n",
    "\n",
    "연을 입력하세요 : 2020\n",
    "\n",
    "월을 입력하세요 : 1\n",
    "\n",
    "일을 입력하세요 : 5\n",
    "\n",
    "2020-01-05"
   ]
  },
  {
   "cell_type": "code",
   "execution_count": 1,
   "metadata": {},
   "outputs": [
    {
     "name": "stdout",
     "output_type": "stream",
     "text": [
      "연을 입력하세요 : 2020\n",
      "월을 입력하세요 : 1\n",
      "일을 입력하세요 : 5\n",
      "2020-01-05\n"
     ]
    }
   ],
   "source": [
    "year = int(input('연을 입력하세요 : '))\n",
    "month = int(input('월을 입력하세요 : '))\n",
    "day = int(input('일을 입력하세요 : '))\n",
    "\n",
    "a = '%d-%02d-%02d' % (year, month, day)\n",
    "\n",
    "print(a, sep='-')"
   ]
  },
  {
   "cell_type": "markdown",
   "metadata": {},
   "source": [
    "# 3장 연습문제 조건문"
   ]
  },
  {
   "cell_type": "markdown",
   "metadata": {},
   "source": [
    "### 1. 변수 a, b, c의 값에 따라 연산의 결과가 참이면 True, 거짓이면 False를 빈 칸에 적으시오.\n",
    "\n",
    "False, False, False\n",
    "\n",
    "True,  False, False\n",
    "\n",
    "True,  False, True"
   ]
  },
  {
   "cell_type": "markdown",
   "metadata": {},
   "source": [
    "### 2. 변수 a, b, c의 값에 따라 연산의 결과가 참이면 True, 거짓이면 False를 빈 칸에 적으시오.\n",
    "\n",
    "False, True\n",
    "\n",
    "True,  False\n",
    "\n",
    "False, True"
   ]
  },
  {
   "cell_type": "markdown",
   "metadata": {},
   "source": [
    "### 3. 다음 프로그램의 실행 결과는?"
   ]
  },
  {
   "cell_type": "code",
   "execution_count": 14,
   "metadata": {},
   "outputs": [
    {
     "name": "stdout",
     "output_type": "stream",
     "text": [
      "4\n"
     ]
    }
   ],
   "source": [
    "a = 2\n",
    "z = a * 5\n",
    "w = (z-3) * (a-7) / 7 + 10\n",
    "\n",
    "if a > z or w > a :\n",
    "    y = 2 * a\n",
    "else :\n",
    "    y = 4 * a\n",
    "    \n",
    "print(y)\n",
    "\n",
    "#실행 결과 : 4"
   ]
  },
  {
   "cell_type": "markdown",
   "metadata": {},
   "source": [
    "### 4. 물의 섭씨 또는 화씨 온도를 입력받아 섭씨 온도와 물의 상태를 판별하는 프로그램을 작성하시오.\n",
    "\n",
    "※ 힌트 : 섭씨 = (화씨 - 32) * 5 / 9\n",
    "\n",
    "□ 실행 결과\n",
    "\n",
    "단위를 입력하세요(1:섭씨, 2:화씨) : 2\n",
    "\n",
    "온도를 입력하세요 : 80\n",
    "\n",
    "물의 섭씨 온도 : 26.67, 상태 : 액체"
   ]
  },
  {
   "cell_type": "code",
   "execution_count": 4,
   "metadata": {},
   "outputs": [
    {
     "name": "stdout",
     "output_type": "stream",
     "text": [
      "단위를 입력하세요(1:섭씨, 2:화씨): 2\n",
      "온도를 입력하세요: 80\n",
      "물의 섭씨 온도 : 26.67, 상태 : 액체\n"
     ]
    }
   ],
   "source": [
    "unit = int(input('단위를 입력하세요(1:섭씨, 2:화씨): '))\n",
    "temp = int(input('온도를 입력하세요: '))\n",
    "\n",
    "if unit == 2 :\n",
    "   temp = (temp - 32) * 5 / 9\n",
    "\n",
    "if temp < 0 :\n",
    "    state = '고체'\n",
    "elif temp < 100 :\n",
    "    state = '액체'\n",
    "else :\n",
    "    state = '기체'\n",
    "\n",
    "print('물의 섭씨 온도 : %.2f, 상태 : %s' % (temp, state))"
   ]
  },
  {
   "cell_type": "markdown",
   "metadata": {},
   "source": [
    "### 5. 아이디를 입력받아 아이가 'admin'이면 '모든 콘텐츠 이용 가능'을 출력하고 프로그램을 종료한다. 아이디가 'admin'이 아니면 회원 레벨을 입력받아 회원 레벨이 2~7이면 '일부 콘텐츠 이용 가능'을 출력하고, 그렇지 않으면 '콘텐츠 이용 불가'를 출력하는 프로그램을 작성하시오.\n",
    "\n",
    "□ 실행 결과\n",
    "\n",
    "아이디를 입력하세요 : rubato\n",
    "\n",
    "회원 레벨을 입력해 주세요 : 3\n",
    "\n",
    "일부 콘텐츠 이용 가능"
   ]
  },
  {
   "cell_type": "code",
   "execution_count": 5,
   "metadata": {},
   "outputs": [
    {
     "name": "stdout",
     "output_type": "stream",
     "text": [
      "아이디를 입력하세요 : rubato\n",
      "회원 레벨을 입력해 주세요 : 3\n",
      "일부 콘텐츠 이용 가능\n"
     ]
    }
   ],
   "source": [
    "userid = input('아이디를 입력하세요 : ') \n",
    "\n",
    "if userid == 'admin' :\n",
    "    print('모든 콘텐츠 이용 가능')    \n",
    "else :\n",
    "    level = int(input('회원 레벨을 입력해 주세요 : '))\n",
    "    \n",
    "    if  level >= 2 and level <= 7 :\n",
    "        print('일부 콘텐츠 이용 가능')\n",
    "    else :\n",
    "        print('콘텐츠 이용 불가')"
   ]
  },
  {
   "cell_type": "markdown",
   "metadata": {},
   "source": [
    "### 6. 나이를 입력받아 입장료를 계산하는 프로그램을 작성하시오. 단, 10세 이하의 입장료는 1000원, 65세 이상의 입장료는 0원, 기본 입장료는 2000원이다.\n",
    "\n"
   ]
  },
  {
   "cell_type": "code",
   "execution_count": 7,
   "metadata": {},
   "outputs": [
    {
     "name": "stdout",
     "output_type": "stream",
     "text": [
      "나이를 입력하세요 :6\n",
      "입장료는 1000\n"
     ]
    }
   ],
   "source": [
    "age = int(input('나이를 입력하세요 :'))\n",
    "if age <=10 :\n",
    "    pay = 1000\n",
    "elif age >= 65 :\n",
    "    pay = 0\n",
    "else :\n",
    "    pay = 2000\n",
    "    \n",
    "print('입장료는 %s' % pay)"
   ]
  },
  {
   "cell_type": "markdown",
   "metadata": {},
   "source": [
    "### 7. 영어와 수학이 모두 80점 이상이면 '합격', 영어와 수학이 모두 80점 미만이면 '불합격', 두 시험 중 한 과목이 80점 이상이면 '재시험 기회제공'의 메시지를 출력하는 프로그램을 작성하시오.\n",
    "\n",
    "□ 실행 결과\n",
    "\n",
    "영어시험 점수를 입력하세요 : 85\n",
    "\n",
    "수학시험 점수를 입력하세요 : 75\n",
    "\n",
    "재시험 기회제공"
   ]
  },
  {
   "cell_type": "code",
   "execution_count": 10,
   "metadata": {},
   "outputs": [
    {
     "name": "stdout",
     "output_type": "stream",
     "text": [
      "영어시험 점수를 입력하세요 : 85\n",
      "수학시험 점수를 입력하세요 : 75\n",
      "재시험 기회제공\n"
     ]
    }
   ],
   "source": [
    "english = int(input('영어시험 점수를 입력하세요 : '))\n",
    "math = int(input('수학시험 점수를 입력하세요 : '))\n",
    "\n",
    "if english >= 80 and math >= 80 :\n",
    "    print('합격')\n",
    "elif english >= 80 or math >= 80 :\n",
    "    print('재시험 기회제공')\n",
    "else :\n",
    "    print('불합격')"
   ]
  },
  {
   "cell_type": "code",
   "execution_count": null,
   "metadata": {},
   "outputs": [],
   "source": []
  }
 ],
 "metadata": {
  "kernelspec": {
   "display_name": "Python 3",
   "language": "python",
   "name": "python3"
  },
  "language_info": {
   "codemirror_mode": {
    "name": "ipython",
    "version": 3
   },
   "file_extension": ".py",
   "mimetype": "text/x-python",
   "name": "python",
   "nbconvert_exporter": "python",
   "pygments_lexer": "ipython3",
   "version": "3.7.6"
  }
 },
 "nbformat": 4,
 "nbformat_minor": 4
}
