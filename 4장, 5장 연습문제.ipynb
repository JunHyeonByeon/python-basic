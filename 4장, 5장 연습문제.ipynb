{
 "cells": [
  {
   "cell_type": "markdown",
   "metadata": {},
   "source": [
    "# 4장 연습문제 반복문"
   ]
  },
  {
   "cell_type": "markdown",
   "metadata": {},
   "source": [
    "### 1. for문을 이용하여 실행 결과와 같은 형태로 출력하는 프로그램을 작성하시오."
   ]
  },
  {
   "cell_type": "code",
   "execution_count": 3,
   "metadata": {},
   "outputs": [
    {
     "name": "stdout",
     "output_type": "stream",
     "text": [
      "*  *  *  *  *  *  *  *  *  *  \n",
      "*  *  *  *  *  *  *  *  *  *  \n",
      "*  *  *  *  *  *  *  *  *  *  \n",
      "*  *  *  *  *  *  *  *  *  *  \n",
      "*  *  *  *  *  *  *  *  *  *  \n"
     ]
    }
   ],
   "source": [
    "for i in range(5) :\n",
    "    for k in range(10) :\n",
    "        print('* ', end=' ')\n",
    "    print()"
   ]
  },
  {
   "cell_type": "markdown",
   "metadata": {},
   "source": [
    "### 2. while문을 이용하여 1번 문제와 동일한 결과를 가져오는 프로그램을 작성하시오."
   ]
  },
  {
   "cell_type": "code",
   "execution_count": 9,
   "metadata": {},
   "outputs": [
    {
     "name": "stdout",
     "output_type": "stream",
     "text": [
      "*  *  *  *  *  *  *  *  *  *  \n",
      "*  *  *  *  *  *  *  *  *  *  \n",
      "*  *  *  *  *  *  *  *  *  *  \n",
      "*  *  *  *  *  *  *  *  *  *  \n",
      "*  *  *  *  *  *  *  *  *  *  \n"
     ]
    }
   ],
   "source": [
    "i = 0\n",
    "while i < 5 :\n",
    "    k = 0\n",
    "    while k < 10 :\n",
    "        print('* ', end=' ')\n",
    "        \n",
    "        k += 1\n",
    "    print()\n",
    "    \n",
    "    i += 1"
   ]
  },
  {
   "cell_type": "markdown",
   "metadata": {},
   "source": [
    "### 3. for문을 이용하여 실행 결과와 같은 형태로 출력하는 프로그램을 작성하시오."
   ]
  },
  {
   "cell_type": "code",
   "execution_count": 16,
   "metadata": {},
   "outputs": [
    {
     "name": "stdout",
     "output_type": "stream",
     "text": [
      "6 6 6 6 6 6 \n",
      "5 5 5 5 5 \n",
      "4 4 4 4 \n",
      "3 3 3 \n",
      "2 2 \n",
      "1 \n"
     ]
    }
   ],
   "source": [
    "for i in range(6, 0, -1) :\n",
    "    for k in range(i) :\n",
    "        print(i, end=' ')\n",
    "    print()"
   ]
  },
  {
   "cell_type": "markdown",
   "metadata": {},
   "source": [
    "### 4. for문을 이용하여 실행 결과와 같은 형태로 출력하는 프로그램을 작성하시오."
   ]
  },
  {
   "cell_type": "code",
   "execution_count": 23,
   "metadata": {},
   "outputs": [
    {
     "name": "stdout",
     "output_type": "stream",
     "text": [
      "0 \n",
      "0 1 \n",
      "0 1 2 \n",
      "0 1 2 3 \n",
      "0 1 2 3 4 \n",
      "0 1 2 3 4 5 \n"
     ]
    }
   ],
   "source": [
    "for i in range(6) :\n",
    "    for k in range(i+1) :\n",
    "        print(k, end=' ')\n",
    "    print()"
   ]
  },
  {
   "cell_type": "markdown",
   "metadata": {},
   "source": [
    "### 5. for문을 이용하여 실행 결과와 같은 형태로 출력하는 프로그램을 작성하시오."
   ]
  },
  {
   "cell_type": "code",
   "execution_count": 27,
   "metadata": {},
   "outputs": [
    {
     "name": "stdout",
     "output_type": "stream",
     "text": [
      "* * * * * * * * \n",
      "*             * \n",
      "*             * \n",
      "*             * \n",
      "*             * \n",
      "*             * \n",
      "*             * \n",
      "* * * * * * * * \n"
     ]
    }
   ],
   "source": [
    "a = 8\n",
    "\n",
    "for i in range(a) :\n",
    "    if i == 0 or i == n-1:\n",
    "        for k in range(a) :\n",
    "            print('*', end=' ')\n",
    "    else :\n",
    "        print('*', end=' ')\n",
    "        for k in range(a-2) :\n",
    "            print(' ', end=' ')\n",
    "        print('*', end=' ')\n",
    "    print()   "
   ]
  },
  {
   "cell_type": "markdown",
   "metadata": {},
   "source": [
    "### 6. 1~100까지의 수 중에서 홀수와 홀수의 합을 실행 결과와 같이 출력하는 프로그램을 작성하시오."
   ]
  },
  {
   "cell_type": "code",
   "execution_count": 28,
   "metadata": {},
   "outputs": [
    {
     "name": "stdout",
     "output_type": "stream",
     "text": [
      "1 + 3 + 5 + 7 + 9 + 11 + 13 + 15 + 17 + 19 + 21 + 23 + 25 + 27 + 29 + 31 + 33 + 35 + 37 + 39 + 41 + 43 + 45 + 47 + 49 + 51 + 53 + 55 + 57 + 59 + 61 + 63 + 65 + 67 + 69 + 71 + 73 + 75 + 77 + 79 + 81 + 83 + 85 + 87 + 89 + 91 + 93 + 95 + 97 + 99 = 2500\n"
     ]
    }
   ],
   "source": [
    "sum = 0\n",
    "\n",
    "for i in range(100) :\n",
    "    if i%2 == 1 :\n",
    "        if i == 99 :\n",
    "            print(i, end='')\n",
    "        else :\n",
    "            print(i, end=' + ')\n",
    "            \n",
    "        sum += i\n",
    "        \n",
    "print(' = %d' % sum)"
   ]
  },
  {
   "cell_type": "markdown",
   "metadata": {},
   "source": [
    "### 7. N을 입력 받아 다음과 같은 수식의 결과를 얻는 프로그램을 작성하시오."
   ]
  },
  {
   "cell_type": "code",
   "execution_count": 85,
   "metadata": {},
   "outputs": [
    {
     "name": "stdout",
     "output_type": "stream",
     "text": [
      "N의 값을 입력하세요 : 12\n",
      "N의 값 : 12\n",
      "합계 : 744010475682\n"
     ]
    }
   ],
   "source": [
    "n = int(input('N의 값을 입력하세요 : '))\n",
    "sum = 0\n",
    "\n",
    "for i in range(1, n+1) :\n",
    "    if i%2 == 0 :\n",
    "        sum += i**(i-1)\n",
    "        \n",
    "print('N의 값 : %d' % n)\n",
    "print('합계 : %d' % sum)"
   ]
  },
  {
   "cell_type": "markdown",
   "metadata": {},
   "source": [
    "### 8. N 값을 입력받아 1부터 N까지의 수 중에서 소수를 구하는 프로그램을 작성하시오. ※ 소수 : 1과 자기 자신만으로 나누어 떨어지는 1보다 큰 양의 정수."
   ]
  },
  {
   "cell_type": "code",
   "execution_count": 86,
   "metadata": {},
   "outputs": [
    {
     "name": "stdout",
     "output_type": "stream",
     "text": [
      "N 값을 입력해주세요 : 200\n",
      "2   3   5   7   11   13   17   19   23   29   31   37   41   43   47   53   59   61   67   71   73   79   83   89   97   101   103   107   109   113   127   131   137   139   149   151   157   163   167   173   179   181   191   193   197   199   "
     ]
    }
   ],
   "source": [
    "n = int(input(\"N 값을 입력해주세요 : \"))\n",
    "\n",
    "for a in range(2, n+1) : \n",
    "      for b in range(2, n) :\n",
    "            if a == b :\n",
    "                print(a, ' ', end=' ')\n",
    "            elif a % b == 0 :\n",
    "                break"
   ]
  },
  {
   "cell_type": "markdown",
   "metadata": {},
   "source": [
    "### 9. while문을 이용하여 달러($), 원화(원), 유로(€)의 환산표를 만드는 프로그램을 작성하시오."
   ]
  },
  {
   "cell_type": "code",
   "execution_count": 54,
   "metadata": {},
   "outputs": [
    {
     "name": "stdout",
     "output_type": "stream",
     "text": [
      "--------------------------------------------------\n",
      " 달러($)  원화(원)  유로(€)\n",
      "--------------------------------------------------\n",
      "   10    10800    8.1\n",
      "   20    21600   16.2\n",
      "   30    32400   24.3\n",
      "   40    43200   32.4\n",
      "   50    54000   40.5\n",
      "   60    64800   48.6\n",
      "   70    75600   56.7\n",
      "   80    86400   64.8\n",
      "   90    97200   72.9\n",
      "  100   108000   81.0\n",
      "--------------------------------------------------\n"
     ]
    }
   ],
   "source": [
    "print('-' * 50) \n",
    "print(' 달러($)  원화(원)  유로(€)')\n",
    "print('-' * 50) \n",
    "\n",
    "dollar = 10\n",
    "\n",
    "while dollar < 101 : \n",
    "    won  = dollar * 1080\n",
    "    euro = dollar * 0.81\n",
    "\n",
    "    print('%5d %8.0f %6.1f' % (dollar, won, euro))   \n",
    "\n",
    "    dollar = dollar + 10\n",
    "    \n",
    "print('-' * 50)\n"
   ]
  },
  {
   "cell_type": "markdown",
   "metadata": {},
   "source": [
    "### 10. while문을 이용하여 센티미터(cm), 밀리미터(mm), 미터(m), 인치(inch)의 길이 환산표를 만드는 프로그램을 작성하시오."
   ]
  },
  {
   "cell_type": "code",
   "execution_count": 61,
   "metadata": {},
   "outputs": [
    {
     "name": "stdout",
     "output_type": "stream",
     "text": [
      "----------------------------------------\n",
      "      cm      mm        m       inch\n",
      "----------------------------------------\n",
      "       1       10     0.01      0.39\n",
      "       3       30     0.03      1.18\n",
      "       5       50     0.05      1.97\n",
      "       7       70     0.07      2.76\n",
      "       9       90     0.09      3.54\n",
      "      11      110     0.11      4.33\n",
      "      13      130     0.13      5.12\n",
      "      15      150     0.15      5.91\n",
      "      17      170     0.17      6.69\n",
      "      19      190     0.19      7.48\n",
      "      21      210     0.21      8.27\n",
      "      23      230     0.23      9.06\n",
      "      25      250     0.25      9.84\n",
      "      27      270     0.27     10.63\n",
      "      29      290     0.29     11.42\n",
      "      31      310     0.31     12.20\n",
      "      33      330     0.33     12.99\n",
      "      35      350     0.35     13.78\n",
      "      37      370     0.37     14.57\n",
      "      39      390     0.39     15.35\n",
      "      41      410     0.41     16.14\n",
      "      43      430     0.43     16.93\n",
      "      45      450     0.45     17.72\n",
      "      47      470     0.47     18.50\n",
      "      49      490     0.49     19.29\n",
      "      51      510     0.51     20.08\n",
      "      53      530     0.53     20.87\n",
      "      55      550     0.55     21.65\n",
      "      57      570     0.57     22.44\n",
      "      59      590     0.59     23.23\n",
      "      61      610     0.61     24.02\n",
      "      63      630     0.63     24.80\n",
      "      65      650     0.65     25.59\n",
      "      67      670     0.67     26.38\n",
      "      69      690     0.69     27.17\n",
      "      71      710     0.71     27.95\n",
      "      73      730     0.73     28.74\n",
      "      75      750     0.75     29.53\n",
      "      77      770     0.77     30.31\n",
      "      79      790     0.79     31.10\n",
      "      81      810     0.81     31.89\n",
      "      83      830     0.83     32.68\n",
      "      85      850     0.85     33.46\n",
      "      87      870     0.87     34.25\n",
      "      89      890     0.89     35.04\n",
      "      91      910     0.91     35.83\n",
      "      93      930     0.93     36.61\n",
      "      95      950     0.95     37.40\n",
      "      97      970     0.97     38.19\n",
      "      99      990     0.99     38.98\n",
      "----------------------------------------\n"
     ]
    }
   ],
   "source": [
    "print('-' * 40) \n",
    "print('      cm      mm        m       inch')\n",
    "print('-' * 40) \n",
    "\n",
    "cm = 1\n",
    "while cm < 101 :\n",
    "    mm = cm * 10.0\n",
    "    m  = cm * 0.01\n",
    "    inch = cm * 0.3937\n",
    "    print('%8d %8d %8.2f %9.2f' % (cm, mm, m, inch))   \n",
    "\n",
    "    cm = cm + 2\n",
    "    \n",
    "print('-' * 40)"
   ]
  },
  {
   "cell_type": "markdown",
   "metadata": {},
   "source": [
    "# 5장 연습문제 리스트"
   ]
  },
  {
   "cell_type": "markdown",
   "metadata": {},
   "source": [
    "## ■ 다음은 리스트 data에 관련된 문제이다. 물음에 답하시오.(1번~5번 문제)\n",
    "\n",
    "### data = [-12, 3, -9, 5, 8, -2, 0, -8, 3, 10]"
   ]
  },
  {
   "cell_type": "markdown",
   "metadata": {},
   "source": [
    "### 1. for문을 이용하여 data의 요소들 중에서 가장 큰 수를 찾는 프로그램을 작성하시오."
   ]
  },
  {
   "cell_type": "code",
   "execution_count": 62,
   "metadata": {},
   "outputs": [
    {
     "name": "stdout",
     "output_type": "stream",
     "text": [
      "가장 큰 수 : 10\n"
     ]
    }
   ],
   "source": [
    "data = [-12, 3, -9, 5, 8, -2, 0, -8, 3, 10]\n",
    "\n",
    "largest = data[0]\n",
    "for i in range(len(data)) :\n",
    "    if data[i] > largest :\n",
    "        largest = data[i]\n",
    "\n",
    "print('가장 큰 수 : %d' % largest)"
   ]
  },
  {
   "cell_type": "markdown",
   "metadata": {},
   "source": [
    "### 2. while문을 이용하여 짝수 번째 요소들의 합과 평균을 구하는 프로그램을 작성하시오."
   ]
  },
  {
   "cell_type": "code",
   "execution_count": 65,
   "metadata": {},
   "outputs": [
    {
     "name": "stdout",
     "output_type": "stream",
     "text": [
      "합계 : 8, 평균 : 1.60\n"
     ]
    }
   ],
   "source": [
    "data = [-12, 3, -9, 5, 8, -2, 0, -8, 3, 10]\n",
    "\n",
    "i = 0\n",
    "sum = 0\n",
    "while i < len(data) :\n",
    "    if (i+1)%2 == 0 :\n",
    "        sum += data[i]\n",
    "    \n",
    "    i += 1\n",
    "    \n",
    "avg = sum/(len(data)/2)\n",
    "\n",
    "print('합계 : %d, 평균 : %.2f' % (sum, avg))"
   ]
  },
  {
   "cell_type": "markdown",
   "metadata": {},
   "source": [
    "### 3. 리스트의 메소드를 이용하여 data를 내림차순으로 정렬하는 프로그램을 작성하시오."
   ]
  },
  {
   "cell_type": "code",
   "execution_count": 72,
   "metadata": {},
   "outputs": [
    {
     "name": "stdout",
     "output_type": "stream",
     "text": [
      "10 8 5 3 3 0 -2 -8 -9 -12 "
     ]
    }
   ],
   "source": [
    "data = [-12, 3, -9, 5, 8, -2, 0, -8, 3, 10]\n",
    "\n",
    "data.sort(reverse=True)\n",
    "for i in range(len(data)) :\n",
    "    print(data[i], end=' ')"
   ]
  },
  {
   "cell_type": "markdown",
   "metadata": {},
   "source": [
    "### 4. data의 4번째 요소에 데이터 100을 추가하는 프로그램을 작성하시오."
   ]
  },
  {
   "cell_type": "code",
   "execution_count": 71,
   "metadata": {},
   "outputs": [
    {
     "name": "stdout",
     "output_type": "stream",
     "text": [
      "-12 3 -9 100 5 8 -2 0 -8 3 10 "
     ]
    }
   ],
   "source": [
    "data = [-12, 3, -9, 5, 8, -2, 0, -8, 3, 10]\n",
    "\n",
    "data.insert(3, 100)\n",
    "for i in range(len(data)) :\n",
    "    print(data[i], end=' ')"
   ]
  },
  {
   "cell_type": "markdown",
   "metadata": {},
   "source": [
    "### 5. data에서 -12의 값을 가진 요소를 삭제하는 프로그램을 작성하시오."
   ]
  },
  {
   "cell_type": "code",
   "execution_count": 75,
   "metadata": {
    "scrolled": true
   },
   "outputs": [
    {
     "name": "stdout",
     "output_type": "stream",
     "text": [
      "3 -9 5 8 -2 0 -8 3 10 "
     ]
    }
   ],
   "source": [
    "data = [-12, 3, -9, 5, 8, -2, 0, -8, 3, 10]\n",
    "\n",
    "data.remove(-12)\n",
    "for i in range(len(data)) :\n",
    "    print(data[i], end=' ')"
   ]
  },
  {
   "cell_type": "markdown",
   "metadata": {},
   "source": [
    "### ■ 9 X 9의 미니 바둑판에 돌이 놓여 있는 정보를 저장한 2차원 리스트 stone은 다음과 같다. 물음에 답하시오.(6번~9번 문제)"
   ]
  },
  {
   "cell_type": "markdown",
   "metadata": {},
   "source": [
    "### 6. 흑돌과 백돌의 개수를 카운트하는 프로그램을 작성하시오."
   ]
  },
  {
   "cell_type": "code",
   "execution_count": 79,
   "metadata": {},
   "outputs": [
    {
     "name": "stdout",
     "output_type": "stream",
     "text": [
      "흑돌의 개수 : 17\n",
      "백돌의 개수 : 16\n"
     ]
    }
   ],
   "source": [
    "stone = [[0, 0, 0, 0, 0, 0, 0, 0, 0 ],\\\n",
    "         [0, 1, 0, 1, 2, 1, 2, 1, 0 ],\\\n",
    "         [0, 2, 1, 1, 1, 2, 2, 0, 0 ],\\\n",
    "         [0, 0, 2, 2, 2, 1, 0, 2, 0 ],\\\n",
    "         [0, 0, 0, 0, 0, 1, 0, 2, 1 ],\\\n",
    "         [0, 0, 0, 2, 0, 1, 2, 1, 0 ],\\\n",
    "         [0, 0, 0, 2, 1, 0, 1, 1, 0 ],\\\n",
    "         [0, 0, 0, 1, 1, 0, 0, 0, 0 ],\\\n",
    "         [0, 0, 0, 0, 2, 2, 2, 0, 0 ]]\n",
    "\n",
    "black = 0\n",
    "white = 0\n",
    "for i in range(9) :\n",
    "    for k in range(9) :\n",
    "        if stone[i][k] == 1 : \n",
    "            black += 1\n",
    "        \n",
    "        if stone[i][k] == 2 :\n",
    "            white += 1\n",
    "\n",
    "print('흑돌의 개수 : %d' % black)\n",
    "print('백돌의 개수 : %d' % white)"
   ]
  },
  {
   "cell_type": "markdown",
   "metadata": {},
   "source": [
    "### 7. 실행 결과와 같이 흑돌(●), 백돌(○), 돌이 없는 곳(x)을 표시하는 프로그램을 작성하시오."
   ]
  },
  {
   "cell_type": "code",
   "execution_count": 84,
   "metadata": {},
   "outputs": [
    {
     "name": "stdout",
     "output_type": "stream",
     "text": [
      " × × × × × × × × ×\n",
      " × ● × ● ○ ● ○ ● ×\n",
      " × ○ ● ● ● ○ ○ × ×\n",
      " × × ○ ○ ○ ● × ○ ×\n",
      " × × × × × ● × ○ ●\n",
      " × × × ○ × ● ○ ● ×\n",
      " × × × ○ ● × ● ● ×\n",
      " × × × ● ● × × × ×\n",
      " × × × × ○ ○ ○ × ×\n"
     ]
    }
   ],
   "source": [
    "stone = [[0, 0, 0, 0, 0, 0, 0, 0, 0 ],\\\n",
    "         [0, 1, 0, 1, 2, 1, 2, 1, 0 ],\\\n",
    "         [0, 2, 1, 1, 1, 2, 2, 0, 0 ],\\\n",
    "         [0, 0, 2, 2, 2, 1, 0, 2, 0 ],\\\n",
    "         [0, 0, 0, 0, 0, 1, 0, 2, 1 ],\\\n",
    "         [0, 0, 0, 2, 0, 1, 2, 1, 0 ],\\\n",
    "         [0, 0, 0, 2, 1, 0, 1, 1, 0 ],\\\n",
    "         [0, 0, 0, 1, 1, 0, 0, 0, 0 ],\\\n",
    "         [0, 0, 0, 0, 2, 2, 2, 0, 0 ]]\n",
    "\n",
    "black = 0\n",
    "white = 0\n",
    "for i in range(9) :\n",
    "    for k in range(9) :\n",
    "        if stone[i][k] == 1 : \n",
    "            print('%2s' % '●', end = '')\n",
    "        elif stone[i][k] == 2 : \n",
    "            print('%2s' % '○', end = '')\n",
    "        else :\n",
    "            print('%2s' % '×', end = '')\n",
    "            \n",
    "    print()"
   ]
  },
  {
   "cell_type": "markdown",
   "metadata": {},
   "source": [
    "### 8. 7번 문제의 결과에 추가로 실행 결과에서와 같이 바둑판의 좌측과 상단에 좌표 값을 삽입하는 프로그램을 작성하시오."
   ]
  },
  {
   "cell_type": "code",
   "execution_count": 4,
   "metadata": {},
   "outputs": [
    {
     "name": "stdout",
     "output_type": "stream",
     "text": [
      "    01  02  03  04  05  06  07  08  09  \n",
      "01   ×   ×   ×   ×   ×   ×   ×   ×   ×\n",
      "02   ×   ●   ×   ●   ○   ●   ○   ●   ×\n",
      "03   ×   ○   ●   ●   ●   ○   ○   ×   ×\n",
      "04   ×   ×   ○   ○   ○   ●   ×   ○   ×\n",
      "05   ×   ×   ×   ×   ×   ●   ×   ○   ●\n",
      "06   ×   ×   ×   ○   ×   ●   ○   ●   ×\n",
      "07   ×   ×   ×   ○   ●   ×   ●   ●   ×\n",
      "08   ×   ×   ×   ●   ●   ×   ×   ×   ×\n",
      "09   ×   ×   ×   ×   ○   ○   ○   ×   ×\n"
     ]
    }
   ],
   "source": [
    "stone = [[0, 0, 0, 0, 0, 0, 0, 0, 0 ],\\\n",
    "         [0, 1, 0, 1, 2, 1, 2, 1, 0 ],\\\n",
    "         [0, 2, 1, 1, 1, 2, 2, 0, 0 ],\\\n",
    "         [0, 0, 2, 2, 2, 1, 0, 2, 0 ],\\\n",
    "         [0, 0, 0, 0, 0, 1, 0, 2, 1 ],\\\n",
    "         [0, 0, 0, 2, 0, 1, 2, 1, 0 ],\\\n",
    "         [0, 0, 0, 2, 1, 0, 1, 1, 0 ],\\\n",
    "         [0, 0, 0, 1, 1, 0, 0, 0, 0 ],\\\n",
    "         [0, 0, 0, 0, 2, 2, 2, 0, 0 ]]\n",
    "\n",
    "num_black = 0\n",
    "num_white = 0\n",
    "\n",
    "print(' ' * 4, end='')\n",
    "for i in range(9) :\n",
    "    print('%02d' % (i+1), end = '  ')\n",
    "print()\n",
    "\n",
    "for i in range(9) :\n",
    "    print('%02d' % (i+1), end = '')\n",
    "    for j in range(9) :\n",
    "        if stone[i][j] == 1 : \n",
    "            print('%4s' % '●', end = '')\n",
    "        elif stone[i][j] == 2 : \n",
    "            print('%4s' % '○', end = '')\n",
    "        else :\n",
    "            print('%4s' % '×', end = '')\n",
    "            \n",
    "    print()"
   ]
  },
  {
   "cell_type": "markdown",
   "metadata": {},
   "source": [
    "### 9. 완성된 8번의 프로그램을 수정하여 키보드로 X와 Y의 좌표 값을 입력받아 흑돌, 백돌, 돌없음을 출력하는 프로그램을 작성하시오."
   ]
  },
  {
   "cell_type": "code",
   "execution_count": 1,
   "metadata": {},
   "outputs": [
    {
     "name": "stdout",
     "output_type": "stream",
     "text": [
      "X축 좌표값을 입력하세요(1~9, 종료 시 -1 입력) : 9\n",
      "Y축 좌표값을 입력하세요(1~9, 종료 시 -1 입력) : 5\n",
      "흑돌\n",
      "X축 좌표값을 입력하세요(1~9, 종료 시 -1 입력) : 7\n",
      "Y축 좌표값을 입력하세요(1~9, 종료 시 -1 입력) : 2\n",
      "백돌\n",
      "X축 좌표값을 입력하세요(1~9, 종료 시 -1 입력) : 4\n",
      "Y축 좌표값을 입력하세요(1~9, 종료 시 -1 입력) : 1\n",
      "돌없음\n",
      "X축 좌표값을 입력하세요(1~9, 종료 시 -1 입력) : -1\n",
      "종료되었습니다!\n"
     ]
    }
   ],
   "source": [
    "stone = [[0, 0, 0, 0, 0, 0, 0, 0, 0 ],\\\n",
    "         [0, 1, 0, 1, 2, 1, 2, 1, 0 ],\\\n",
    "         [0, 2, 1, 1, 1, 2, 2, 0, 0 ],\\\n",
    "         [0, 0, 2, 2, 2, 1, 0, 2, 0 ],\\\n",
    "         [0, 0, 0, 0, 0, 1, 0, 2, 1 ],\\\n",
    "         [0, 0, 0, 2, 0, 1, 2, 1, 0 ],\\\n",
    "         [0, 0, 0, 2, 1, 0, 1, 1, 0 ],\\\n",
    "         [0, 0, 0, 1, 1, 0, 0, 0, 0 ],\\\n",
    "         [0, 0, 0, 0, 2, 2, 2, 0, 0 ]]\n",
    "\n",
    "while True :\n",
    "    X = int(input('X축 좌표값을 입력하세요(1~9, 종료 시 -1 입력) : '))\n",
    "    if X == -1 :\n",
    "        break\n",
    "    Y = int(input('Y축 좌표값을 입력하세요(1~9, 종료 시 -1 입력) : '))\n",
    "    if Y == -1 :\n",
    "        break\n",
    "   \n",
    "    if stone[Y-1][X-1] == 1 :\n",
    "        print('흑돌')\n",
    "    elif stone[Y-1][X-1] == 2 :\n",
    "        print('백돌')\n",
    "    else :\n",
    "        print('돌없음')\n",
    "\n",
    "print('종료되었습니다!')"
   ]
  },
  {
   "cell_type": "code",
   "execution_count": null,
   "metadata": {},
   "outputs": [],
   "source": []
  }
 ],
 "metadata": {
  "kernelspec": {
   "display_name": "Python 3",
   "language": "python",
   "name": "python3"
  },
  "language_info": {
   "codemirror_mode": {
    "name": "ipython",
    "version": 3
   },
   "file_extension": ".py",
   "mimetype": "text/x-python",
   "name": "python",
   "nbconvert_exporter": "python",
   "pygments_lexer": "ipython3",
   "version": "3.7.6"
  }
 },
 "nbformat": 4,
 "nbformat_minor": 4
}
