{
 "cells": [
  {
   "cell_type": "markdown",
   "metadata": {},
   "source": [
    "# 시카고 샌드위치 맛집 분석"
   ]
  },
  {
   "cell_type": "markdown",
   "metadata": {},
   "source": [
    "## 1. 시카고 샌드위치 맛집 사이트에 접근하기"
   ]
  },
  {
   "cell_type": "code",
   "execution_count": 4,
   "metadata": {},
   "outputs": [],
   "source": [
    "from bs4 import BeautifulSoup\n",
    "from urllib.request import urlopen"
   ]
  },
  {
   "cell_type": "code",
   "execution_count": 6,
   "metadata": {},
   "outputs": [],
   "source": [
    "url_base = 'https://www.chicagomag.com'\n",
    "url_sub ='/Chicago-Magazine/November-2012/Best-Sandwiches-Chicago/'\n",
    "url = url_base + url_sub\n",
    "\n",
    "html = urlopen(url)\n",
    "soup = BeautifulSoup(html, 'html.parser')"
   ]
  },
  {
   "cell_type": "code",
   "execution_count": 8,
   "metadata": {},
   "outputs": [
    {
     "data": {
      "text/plain": [
       "<div class=\"sammy\" style=\"position: relative;\">\n",
       "<div class=\"sammyRank\">1</div>\n",
       "<div class=\"sammyListing\"><a href=\"/Chicago-Magazine/November-2012/Best-Sandwiches-in-Chicago-Old-Oak-Tap-BLT/\"><b>BLT</b><br>\n",
       "Old Oak Tap<br>\n",
       "<em>Read more</em> </br></br></a></div>\n",
       "</div>"
      ]
     },
     "execution_count": 8,
     "metadata": {},
     "output_type": "execute_result"
    }
   ],
   "source": [
    "rest_list = soup.find_all(class_='sammy')\n",
    "rest_list[0]"
   ]
  },
  {
   "cell_type": "code",
   "execution_count": 9,
   "metadata": {},
   "outputs": [
    {
     "data": {
      "text/plain": [
       "50"
      ]
     },
     "execution_count": 9,
     "metadata": {},
     "output_type": "execute_result"
    }
   ],
   "source": [
    "len(rest_list)"
   ]
  },
  {
   "cell_type": "markdown",
   "metadata": {},
   "source": [
    "## 2. 접근한 웹 페이지에서 원하는 데이터 추출하고 정리하기"
   ]
  },
  {
   "cell_type": "code",
   "execution_count": 10,
   "metadata": {},
   "outputs": [],
   "source": [
    "tmp_one = rest_list[0]"
   ]
  },
  {
   "cell_type": "code",
   "execution_count": 11,
   "metadata": {},
   "outputs": [
    {
     "data": {
      "text/plain": [
       "<div class=\"sammyRank\">1</div>"
      ]
     },
     "execution_count": 11,
     "metadata": {},
     "output_type": "execute_result"
    }
   ],
   "source": [
    "tmp_one.find(class_=\"sammyRank\")"
   ]
  },
  {
   "cell_type": "code",
   "execution_count": 12,
   "metadata": {},
   "outputs": [
    {
     "data": {
      "text/plain": [
       "'1'"
      ]
     },
     "execution_count": 12,
     "metadata": {},
     "output_type": "execute_result"
    }
   ],
   "source": [
    "tmp_one.find(class_=\"sammyRank\").get_text()"
   ]
  },
  {
   "cell_type": "code",
   "execution_count": 13,
   "metadata": {},
   "outputs": [
    {
     "data": {
      "text/plain": [
       "'BLT\\r\\nOld Oak Tap\\nRead more '"
      ]
     },
     "execution_count": 13,
     "metadata": {},
     "output_type": "execute_result"
    }
   ],
   "source": [
    "tmp_one.find(class_=\"sammyListing\").get_text()"
   ]
  },
  {
   "cell_type": "code",
   "execution_count": 15,
   "metadata": {},
   "outputs": [
    {
     "data": {
      "text/plain": [
       "'/Chicago-Magazine/November-2012/Best-Sandwiches-in-Chicago-Old-Oak-Tap-BLT/'"
      ]
     },
     "execution_count": 15,
     "metadata": {},
     "output_type": "execute_result"
    }
   ],
   "source": [
    "tmp_one.find('a')['href']"
   ]
  },
  {
   "cell_type": "code",
   "execution_count": 16,
   "metadata": {},
   "outputs": [
    {
     "data": {
      "text/plain": [
       "['BLT\\r', 'Old Oak Tap', 'Read more ']"
      ]
     },
     "execution_count": 16,
     "metadata": {},
     "output_type": "execute_result"
    }
   ],
   "source": [
    "tmp_str = tmp_one.find(class_=\"sammyListing\").get_text()\n",
    "tmp_str.split('\\n')"
   ]
  },
  {
   "cell_type": "code",
   "execution_count": 17,
   "metadata": {},
   "outputs": [
    {
     "data": {
      "text/plain": [
       "'BLT'"
      ]
     },
     "execution_count": 17,
     "metadata": {},
     "output_type": "execute_result"
    }
   ],
   "source": [
    "tmp_res = tmp_str.split('\\n')\n",
    "menu = tmp_res[0].replace('\\r', '')\n",
    "menu"
   ]
  },
  {
   "cell_type": "code",
   "execution_count": 18,
   "metadata": {},
   "outputs": [
    {
     "data": {
      "text/plain": [
       "'Old Oak Tap'"
      ]
     },
     "execution_count": 18,
     "metadata": {},
     "output_type": "execute_result"
    }
   ],
   "source": [
    "cafe = tmp_res[1]\n",
    "cafe"
   ]
  },
  {
   "cell_type": "code",
   "execution_count": 19,
   "metadata": {},
   "outputs": [],
   "source": [
    "# Regular Expression\n",
    "import re"
   ]
  },
  {
   "cell_type": "code",
   "execution_count": 20,
   "metadata": {},
   "outputs": [
    {
     "data": {
      "text/plain": [
       "['BLT', 'Old Oak Tap', 'Read more ']"
      ]
     },
     "execution_count": 20,
     "metadata": {},
     "output_type": "execute_result"
    }
   ],
   "source": [
    "re.split(('\\n|\\r\\n'), tmp_str)"
   ]
  },
  {
   "cell_type": "code",
   "execution_count": 22,
   "metadata": {},
   "outputs": [
    {
     "name": "stdout",
     "output_type": "stream",
     "text": [
      "BLT\n",
      "Old Oak Tap\n",
      "Read more \n"
     ]
    }
   ],
   "source": [
    "print(re.split(('\\n|\\r\\n'), tmp_str)[0])\n",
    "print(re.split(('\\n|\\r\\n'), tmp_str)[1])\n",
    "print(re.split(('\\n|\\r\\n'), tmp_str)[2])"
   ]
  },
  {
   "cell_type": "code",
   "execution_count": 37,
   "metadata": {},
   "outputs": [],
   "source": [
    "from urllib.parse import urljoin"
   ]
  },
  {
   "cell_type": "code",
   "execution_count": 38,
   "metadata": {},
   "outputs": [],
   "source": [
    "## 데이터 프레임 만들기 전에 항목 데이터 구하기\n",
    "rank = []\n",
    "main_menu = []\n",
    "cafe_name = []\n",
    "url_add = []\n",
    "\n",
    "for rest in rest_list:\n",
    "    rank.append(int(rest.find(class_=\"sammyRank\").get_text()))\n",
    "    tmp_str = rest.find(class_=\"sammyListing\").get_text()\n",
    "    main_menu.append(re.split(('\\n|\\r\\n'), tmp_str)[0])\n",
    "    cafe_name.append(re.split(('\\n|\\r\\n'), tmp_str)[1])\n",
    "    url_add.append(urljoin(url_base, rest.find('a')['href']))"
   ]
  },
  {
   "cell_type": "code",
   "execution_count": 39,
   "metadata": {},
   "outputs": [
    {
     "data": {
      "text/plain": [
       "[1, 2, 3, 4, 5]"
      ]
     },
     "execution_count": 39,
     "metadata": {},
     "output_type": "execute_result"
    }
   ],
   "source": [
    "rank[:5]"
   ]
  },
  {
   "cell_type": "code",
   "execution_count": 40,
   "metadata": {},
   "outputs": [
    {
     "data": {
      "text/plain": [
       "['BLT', 'Fried Bologna', 'Woodland Mushroom', 'Roast Beef', 'PB&L']"
      ]
     },
     "execution_count": 40,
     "metadata": {},
     "output_type": "execute_result"
    }
   ],
   "source": [
    "main_menu[:5]"
   ]
  },
  {
   "cell_type": "code",
   "execution_count": 41,
   "metadata": {},
   "outputs": [
    {
     "data": {
      "text/plain": [
       "['Old Oak Tap', 'Au Cheval', 'Xoco', 'Al’s Deli', 'Publican Quality Meats']"
      ]
     },
     "execution_count": 41,
     "metadata": {},
     "output_type": "execute_result"
    }
   ],
   "source": [
    "cafe_name[:5]"
   ]
  },
  {
   "cell_type": "code",
   "execution_count": 42,
   "metadata": {},
   "outputs": [
    {
     "data": {
      "text/plain": [
       "['http://www.chicagomag.com/Chicago-Magazine/November-2012/Best-Sandwiches-in-Chicago-Chickpea-Kufta/',\n",
       " 'http://www.chicagomag.com/Chicago-Magazine/November-2012/Best-Sandwiches-in-Chicago-The-Goddess-and-Grocer-Debbies-Egg-Salad/',\n",
       " 'http://www.chicagomag.com/Chicago-Magazine/November-2012/Best-Sandwiches-in-Chicago-Zenwich-Beef-Curry/',\n",
       " 'http://www.chicagomag.com/Chicago-Magazine/November-2012/Best-Sandwiches-in-Chicago-Toni-Patisserie-Le-Vegetarien/',\n",
       " 'http://www.chicagomag.com/Chicago-Magazine/November-2012/Best-Sandwiches-in-Chicago-Phoebes-Bakery-The-Gatsby/']"
      ]
     },
     "execution_count": 42,
     "metadata": {},
     "output_type": "execute_result"
    }
   ],
   "source": [
    "url_add[-5:]"
   ]
  },
  {
   "cell_type": "code",
   "execution_count": 76,
   "metadata": {},
   "outputs": [
    {
     "data": {
      "text/html": [
       "<div>\n",
       "<style scoped>\n",
       "    .dataframe tbody tr th:only-of-type {\n",
       "        vertical-align: middle;\n",
       "    }\n",
       "\n",
       "    .dataframe tbody tr th {\n",
       "        vertical-align: top;\n",
       "    }\n",
       "\n",
       "    .dataframe thead th {\n",
       "        text-align: right;\n",
       "    }\n",
       "</style>\n",
       "<table border=\"1\" class=\"dataframe\">\n",
       "  <thead>\n",
       "    <tr style=\"text-align: right;\">\n",
       "      <th></th>\n",
       "      <th>rank</th>\n",
       "      <th>cafe</th>\n",
       "      <th>menu</th>\n",
       "      <th>URL</th>\n",
       "    </tr>\n",
       "  </thead>\n",
       "  <tbody>\n",
       "    <tr>\n",
       "      <th>0</th>\n",
       "      <td>1</td>\n",
       "      <td>Old Oak Tap</td>\n",
       "      <td>BLT</td>\n",
       "      <td>https://www.chicagomag.com/Chicago-Magazine/No...</td>\n",
       "    </tr>\n",
       "    <tr>\n",
       "      <th>1</th>\n",
       "      <td>2</td>\n",
       "      <td>Au Cheval</td>\n",
       "      <td>Fried Bologna</td>\n",
       "      <td>https://www.chicagomag.com/Chicago-Magazine/No...</td>\n",
       "    </tr>\n",
       "    <tr>\n",
       "      <th>2</th>\n",
       "      <td>3</td>\n",
       "      <td>Xoco</td>\n",
       "      <td>Woodland Mushroom</td>\n",
       "      <td>https://www.chicagomag.com/Chicago-Magazine/No...</td>\n",
       "    </tr>\n",
       "    <tr>\n",
       "      <th>3</th>\n",
       "      <td>4</td>\n",
       "      <td>Al’s Deli</td>\n",
       "      <td>Roast Beef</td>\n",
       "      <td>https://www.chicagomag.com/Chicago-Magazine/No...</td>\n",
       "    </tr>\n",
       "    <tr>\n",
       "      <th>4</th>\n",
       "      <td>5</td>\n",
       "      <td>Publican Quality Meats</td>\n",
       "      <td>PB&amp;L</td>\n",
       "      <td>https://www.chicagomag.com/Chicago-Magazine/No...</td>\n",
       "    </tr>\n",
       "  </tbody>\n",
       "</table>\n",
       "</div>"
      ],
      "text/plain": [
       "   rank                    cafe               menu  \\\n",
       "0     1             Old Oak Tap                BLT   \n",
       "1     2               Au Cheval      Fried Bologna   \n",
       "2     3                    Xoco  Woodland Mushroom   \n",
       "3     4               Al’s Deli         Roast Beef   \n",
       "4     5  Publican Quality Meats               PB&L   \n",
       "\n",
       "                                                 URL  \n",
       "0  https://www.chicagomag.com/Chicago-Magazine/No...  \n",
       "1  https://www.chicagomag.com/Chicago-Magazine/No...  \n",
       "2  https://www.chicagomag.com/Chicago-Magazine/No...  \n",
       "3  https://www.chicagomag.com/Chicago-Magazine/No...  \n",
       "4  https://www.chicagomag.com/Chicago-Magazine/No...  "
      ]
     },
     "execution_count": 76,
     "metadata": {},
     "output_type": "execute_result"
    }
   ],
   "source": [
    "# 데이터 프레임으로 만들기\n",
    "import pandas as pd\n",
    "df = pd.DataFrame({'rank': rank, 'cafe': cafe_name, 'menu': main_menu, 'URL': url_add})\n",
    "df.head()"
   ]
  },
  {
   "cell_type": "code",
   "execution_count": 45,
   "metadata": {},
   "outputs": [],
   "source": [
    "df.to_csv('chicago1.csv', sep=',', encoding=\"UTF-8\")"
   ]
  },
  {
   "cell_type": "markdown",
   "metadata": {},
   "source": [
    "## 3. 다수의 웹 페이지에 자동으로 접근해서 원하는 정보 가져오기"
   ]
  },
  {
   "cell_type": "code",
   "execution_count": 47,
   "metadata": {},
   "outputs": [
    {
     "data": {
      "text/plain": [
       "'https://www.chicagomag.com/Chicago-Magazine/November-2012/Best-Sandwiches-in-Chicago-Old-Oak-Tap-BLT/'"
      ]
     },
     "execution_count": 47,
     "metadata": {},
     "output_type": "execute_result"
    }
   ],
   "source": [
    "df['URL'][0]"
   ]
  },
  {
   "cell_type": "code",
   "execution_count": 51,
   "metadata": {},
   "outputs": [],
   "source": [
    "html = urlopen(df['URL'][0])\n",
    "soup_tmp = BeautifulSoup(html, 'html.parser')"
   ]
  },
  {
   "cell_type": "code",
   "execution_count": 53,
   "metadata": {},
   "outputs": [
    {
     "data": {
      "text/plain": [
       "<p class=\"addy\">\n",
       "<em>$10. 2109 W. Chicago Ave., 773-772-0406, <a href=\"http://www.theoldoaktap.com/\">theoldoaktap.com</a></em></p>"
      ]
     },
     "execution_count": 53,
     "metadata": {},
     "output_type": "execute_result"
    }
   ],
   "source": [
    "soup_tmp.find(class_='addy')"
   ]
  },
  {
   "cell_type": "code",
   "execution_count": 54,
   "metadata": {},
   "outputs": [
    {
     "data": {
      "text/plain": [
       "'\\n$10. 2109 W. Chicago Ave., 773-772-0406, theoldoaktap.com'"
      ]
     },
     "execution_count": 54,
     "metadata": {},
     "output_type": "execute_result"
    }
   ],
   "source": [
    "tmp_str = soup_tmp.find(class_='addy').get_text()\n",
    "tmp_str"
   ]
  },
  {
   "cell_type": "code",
   "execution_count": 55,
   "metadata": {},
   "outputs": [
    {
     "data": {
      "text/plain": [
       "['$10.', '2109', 'W.', 'Chicago', 'Ave.,', '773-772-0406,', 'theoldoaktap.com']"
      ]
     },
     "execution_count": 55,
     "metadata": {},
     "output_type": "execute_result"
    }
   ],
   "source": [
    "tmp_str.split()"
   ]
  },
  {
   "cell_type": "code",
   "execution_count": 56,
   "metadata": {},
   "outputs": [
    {
     "data": {
      "text/plain": [
       "'$10'"
      ]
     },
     "execution_count": 56,
     "metadata": {},
     "output_type": "execute_result"
    }
   ],
   "source": [
    "tmp_price = tmp_str.split()[0][:-1]\n",
    "tmp_price"
   ]
  },
  {
   "cell_type": "code",
   "execution_count": 57,
   "metadata": {},
   "outputs": [
    {
     "data": {
      "text/plain": [
       "['2109', 'W.', 'Chicago', 'Ave.,']"
      ]
     },
     "execution_count": 57,
     "metadata": {},
     "output_type": "execute_result"
    }
   ],
   "source": [
    "tmp_str.split()[1:-2]"
   ]
  },
  {
   "cell_type": "code",
   "execution_count": 58,
   "metadata": {},
   "outputs": [
    {
     "data": {
      "text/plain": [
       "'2109 W. Chicago Ave.,'"
      ]
     },
     "execution_count": 58,
     "metadata": {},
     "output_type": "execute_result"
    }
   ],
   "source": [
    "' '.join(tmp_str.split()[1:-2])"
   ]
  },
  {
   "cell_type": "code",
   "execution_count": 59,
   "metadata": {},
   "outputs": [
    {
     "data": {
      "text/plain": [
       "'2109 W. Chicago Ave.'"
      ]
     },
     "execution_count": 59,
     "metadata": {},
     "output_type": "execute_result"
    }
   ],
   "source": [
    "tmp_addr = ' '.join(tmp_str.split()[1:-2])[:-1]\n",
    "tmp_addr"
   ]
  },
  {
   "cell_type": "markdown",
   "metadata": {},
   "source": [
    "## - 상태 진행바 적용"
   ]
  },
  {
   "cell_type": "code",
   "execution_count": 60,
   "metadata": {},
   "outputs": [],
   "source": [
    "from tqdm import tqdm_notebook\n",
    "import time"
   ]
  },
  {
   "cell_type": "code",
   "execution_count": 62,
   "metadata": {},
   "outputs": [
    {
     "name": "stderr",
     "output_type": "stream",
     "text": [
      "C:\\ProgramData\\Anaconda3\\lib\\site-packages\\ipykernel_launcher.py:3: TqdmDeprecationWarning: This function will be removed in tqdm==5.0.0\n",
      "Please use `tqdm.notebook.tqdm` instead of `tqdm.tqdm_notebook`\n",
      "  This is separate from the ipykernel package so we can avoid doing imports until\n"
     ]
    },
    {
     "data": {
      "application/vnd.jupyter.widget-view+json": {
       "model_id": "521213f948284870836e9b7b524d9c3f",
       "version_major": 2,
       "version_minor": 0
      },
      "text/plain": [
       "HBox(children=(FloatProgress(value=0.0, max=50.0), HTML(value='')))"
      ]
     },
     "metadata": {},
     "output_type": "display_data"
    },
    {
     "name": "stdout",
     "output_type": "stream",
     "text": [
      "\n"
     ]
    }
   ],
   "source": [
    "price = []\n",
    "addr = []\n",
    "for n in tqdm_notebook(df.index):\n",
    "    html = urlopen(df['URL'][n])\n",
    "    soup_tmp = BeautifulSoup(html, 'html.parser')\n",
    "    tmp_str = soup_tmp.find(class_='addy').get_text()\n",
    "    \n",
    "    price.append(tmp_str.split()[0][:-1])\n",
    "    addr.append(' '.join(tmp_str.split()[1:-2])[:-1])"
   ]
  },
  {
   "cell_type": "code",
   "execution_count": 87,
   "metadata": {},
   "outputs": [
    {
     "data": {
      "text/plain": [
       "['$10', '$9', '$9.50', '$9.40', '$10', '$7.25', '$16', '$10', '$9', '$17']"
      ]
     },
     "execution_count": 87,
     "metadata": {},
     "output_type": "execute_result"
    }
   ],
   "source": [
    "price[:10]"
   ]
  },
  {
   "cell_type": "code",
   "execution_count": 96,
   "metadata": {},
   "outputs": [
    {
     "data": {
      "text/plain": [
       "['2109 W. Chicago Ave.',\n",
       " '800 W. Randolph St.',\n",
       " '445 N. Clark St.',\n",
       " '914 Noyes St., Evanston',\n",
       " '825 W. Fulton Mkt.',\n",
       " '100 E. Walto',\n",
       " '1639 S. Wabash Ave.',\n",
       " '2211 W. North Ave.',\n",
       " '3619 W. North Ave.',\n",
       " '3267 S. Halsted St.']"
      ]
     },
     "execution_count": 96,
     "metadata": {},
     "output_type": "execute_result"
    }
   ],
   "source": [
    "addr[:10]"
   ]
  },
  {
   "cell_type": "code",
   "execution_count": 97,
   "metadata": {},
   "outputs": [
    {
     "data": {
      "text/plain": [
       "(50, 50, 50)"
      ]
     },
     "execution_count": 97,
     "metadata": {},
     "output_type": "execute_result"
    }
   ],
   "source": [
    "len(price), len(addr), len(df)"
   ]
  },
  {
   "cell_type": "code",
   "execution_count": 100,
   "metadata": {},
   "outputs": [
    {
     "data": {
      "text/html": [
       "<div>\n",
       "<style scoped>\n",
       "    .dataframe tbody tr th:only-of-type {\n",
       "        vertical-align: middle;\n",
       "    }\n",
       "\n",
       "    .dataframe tbody tr th {\n",
       "        vertical-align: top;\n",
       "    }\n",
       "\n",
       "    .dataframe thead th {\n",
       "        text-align: right;\n",
       "    }\n",
       "</style>\n",
       "<table border=\"1\" class=\"dataframe\">\n",
       "  <thead>\n",
       "    <tr style=\"text-align: right;\">\n",
       "      <th></th>\n",
       "      <th>cafe</th>\n",
       "      <th>menu</th>\n",
       "      <th>price</th>\n",
       "      <th>address</th>\n",
       "    </tr>\n",
       "    <tr>\n",
       "      <th>rank</th>\n",
       "      <th></th>\n",
       "      <th></th>\n",
       "      <th></th>\n",
       "      <th></th>\n",
       "    </tr>\n",
       "  </thead>\n",
       "  <tbody>\n",
       "    <tr>\n",
       "      <th>1</th>\n",
       "      <td>Old Oak Tap</td>\n",
       "      <td>BLT</td>\n",
       "      <td>$10</td>\n",
       "      <td>2109 W. Chicago Ave.</td>\n",
       "    </tr>\n",
       "    <tr>\n",
       "      <th>2</th>\n",
       "      <td>Au Cheval</td>\n",
       "      <td>Fried Bologna</td>\n",
       "      <td>$9</td>\n",
       "      <td>800 W. Randolph St.</td>\n",
       "    </tr>\n",
       "    <tr>\n",
       "      <th>3</th>\n",
       "      <td>Xoco</td>\n",
       "      <td>Woodland Mushroom</td>\n",
       "      <td>$9.50</td>\n",
       "      <td>445 N. Clark St.</td>\n",
       "    </tr>\n",
       "    <tr>\n",
       "      <th>4</th>\n",
       "      <td>Al’s Deli</td>\n",
       "      <td>Roast Beef</td>\n",
       "      <td>$9.40</td>\n",
       "      <td>914 Noyes St., Evanston</td>\n",
       "    </tr>\n",
       "    <tr>\n",
       "      <th>5</th>\n",
       "      <td>Publican Quality Meats</td>\n",
       "      <td>PB&amp;L</td>\n",
       "      <td>$10</td>\n",
       "      <td>825 W. Fulton Mkt.</td>\n",
       "    </tr>\n",
       "  </tbody>\n",
       "</table>\n",
       "</div>"
      ],
      "text/plain": [
       "                        cafe               menu  price  \\\n",
       "rank                                                     \n",
       "1                Old Oak Tap                BLT    $10   \n",
       "2                  Au Cheval      Fried Bologna     $9   \n",
       "3                       Xoco  Woodland Mushroom  $9.50   \n",
       "4                  Al’s Deli         Roast Beef  $9.40   \n",
       "5     Publican Quality Meats               PB&L    $10   \n",
       "\n",
       "                      address  \n",
       "rank                           \n",
       "1        2109 W. Chicago Ave.  \n",
       "2         800 W. Randolph St.  \n",
       "3            445 N. Clark St.  \n",
       "4     914 Noyes St., Evanston  \n",
       "5          825 W. Fulton Mkt.  "
      ]
     },
     "execution_count": 100,
     "metadata": {},
     "output_type": "execute_result"
    }
   ],
   "source": [
    "# 랭크는 index로 만든다.\n",
    "df['price'] = price\n",
    "df['address'] = addr\n",
    "\n",
    "df = df.loc[:, ['rank', 'cafe', 'menu', 'price', 'address']]\n",
    "df.set_index('rank', inplace=True)\n",
    "df.head()"
   ]
  },
  {
   "cell_type": "code",
   "execution_count": 101,
   "metadata": {},
   "outputs": [],
   "source": [
    "df.to_csv('chicago2.csv', sep=',', encoding=\"UTF-8\")"
   ]
  },
  {
   "cell_type": "markdown",
   "metadata": {},
   "source": [
    "## 4. 맛집 위치를 지도에 표기하기"
   ]
  },
  {
   "cell_type": "code",
   "execution_count": 103,
   "metadata": {},
   "outputs": [],
   "source": [
    "import numpy as np\n",
    "import folium\n",
    "import googlemaps"
   ]
  },
  {
   "cell_type": "code",
   "execution_count": 104,
   "metadata": {},
   "outputs": [],
   "source": [
    "key_fd = open('googlemapskey.txt', mode='r')\n",
    "gmaps_key = key_fd.read(100)\n",
    "key_fd.close()"
   ]
  },
  {
   "cell_type": "code",
   "execution_count": 105,
   "metadata": {},
   "outputs": [],
   "source": [
    "gmaps = googlemaps.Client(key=gmaps_key)"
   ]
  },
  {
   "cell_type": "code",
   "execution_count": 109,
   "metadata": {},
   "outputs": [
    {
     "name": "stderr",
     "output_type": "stream",
     "text": [
      "C:\\ProgramData\\Anaconda3\\lib\\site-packages\\ipykernel_launcher.py:4: TqdmDeprecationWarning: This function will be removed in tqdm==5.0.0\n",
      "Please use `tqdm.notebook.tqdm` instead of `tqdm.tqdm_notebook`\n",
      "  after removing the cwd from sys.path.\n"
     ]
    },
    {
     "data": {
      "application/vnd.jupyter.widget-view+json": {
       "model_id": "c68e6ce7a81346f3a07c5229c6d08347",
       "version_major": 2,
       "version_minor": 0
      },
      "text/plain": [
       "HBox(children=(FloatProgress(value=0.0, max=50.0), HTML(value='')))"
      ]
     },
     "metadata": {},
     "output_type": "display_data"
    },
    {
     "name": "stdout",
     "output_type": "stream",
     "text": [
      "\n"
     ]
    }
   ],
   "source": [
    "lat = []\n",
    "lng = []\n",
    "\n",
    "for n in tqdm_notebook(df.index):\n",
    "    if df['address'][n] != 'Multiple':\n",
    "        target_name = df['address'][n]+', '+'Chicago'\n",
    "        gmaps_output = gmaps.geocode(target_name)\n",
    "        location_output = gmaps_output[0].get('geometry')\n",
    "        lat.append(location_output['location']['lat'])\n",
    "        lng.append(location_output['location']['lng'])\n",
    "        \n",
    "    else:\n",
    "        lat.append(np.nan)\n",
    "        lng.append(np.nan)"
   ]
  },
  {
   "cell_type": "code",
   "execution_count": 110,
   "metadata": {},
   "outputs": [
    {
     "data": {
      "text/html": [
       "<div>\n",
       "<style scoped>\n",
       "    .dataframe tbody tr th:only-of-type {\n",
       "        vertical-align: middle;\n",
       "    }\n",
       "\n",
       "    .dataframe tbody tr th {\n",
       "        vertical-align: top;\n",
       "    }\n",
       "\n",
       "    .dataframe thead th {\n",
       "        text-align: right;\n",
       "    }\n",
       "</style>\n",
       "<table border=\"1\" class=\"dataframe\">\n",
       "  <thead>\n",
       "    <tr style=\"text-align: right;\">\n",
       "      <th></th>\n",
       "      <th>cafe</th>\n",
       "      <th>menu</th>\n",
       "      <th>price</th>\n",
       "      <th>address</th>\n",
       "      <th>lat</th>\n",
       "      <th>lng</th>\n",
       "    </tr>\n",
       "    <tr>\n",
       "      <th>rank</th>\n",
       "      <th></th>\n",
       "      <th></th>\n",
       "      <th></th>\n",
       "      <th></th>\n",
       "      <th></th>\n",
       "      <th></th>\n",
       "    </tr>\n",
       "  </thead>\n",
       "  <tbody>\n",
       "    <tr>\n",
       "      <th>1</th>\n",
       "      <td>Old Oak Tap</td>\n",
       "      <td>BLT</td>\n",
       "      <td>$10</td>\n",
       "      <td>2109 W. Chicago Ave.</td>\n",
       "      <td>41.895605</td>\n",
       "      <td>-87.679961</td>\n",
       "    </tr>\n",
       "    <tr>\n",
       "      <th>2</th>\n",
       "      <td>Au Cheval</td>\n",
       "      <td>Fried Bologna</td>\n",
       "      <td>$9</td>\n",
       "      <td>800 W. Randolph St.</td>\n",
       "      <td>41.884658</td>\n",
       "      <td>-87.647667</td>\n",
       "    </tr>\n",
       "    <tr>\n",
       "      <th>3</th>\n",
       "      <td>Xoco</td>\n",
       "      <td>Woodland Mushroom</td>\n",
       "      <td>$9.50</td>\n",
       "      <td>445 N. Clark St.</td>\n",
       "      <td>41.890523</td>\n",
       "      <td>-87.630783</td>\n",
       "    </tr>\n",
       "    <tr>\n",
       "      <th>4</th>\n",
       "      <td>Al’s Deli</td>\n",
       "      <td>Roast Beef</td>\n",
       "      <td>$9.40</td>\n",
       "      <td>914 Noyes St., Evanston</td>\n",
       "      <td>42.058322</td>\n",
       "      <td>-87.683748</td>\n",
       "    </tr>\n",
       "    <tr>\n",
       "      <th>5</th>\n",
       "      <td>Publican Quality Meats</td>\n",
       "      <td>PB&amp;L</td>\n",
       "      <td>$10</td>\n",
       "      <td>825 W. Fulton Mkt.</td>\n",
       "      <td>41.886600</td>\n",
       "      <td>-87.648451</td>\n",
       "    </tr>\n",
       "  </tbody>\n",
       "</table>\n",
       "</div>"
      ],
      "text/plain": [
       "                        cafe               menu  price  \\\n",
       "rank                                                     \n",
       "1                Old Oak Tap                BLT    $10   \n",
       "2                  Au Cheval      Fried Bologna     $9   \n",
       "3                       Xoco  Woodland Mushroom  $9.50   \n",
       "4                  Al’s Deli         Roast Beef  $9.40   \n",
       "5     Publican Quality Meats               PB&L    $10   \n",
       "\n",
       "                      address        lat        lng  \n",
       "rank                                                 \n",
       "1        2109 W. Chicago Ave.  41.895605 -87.679961  \n",
       "2         800 W. Randolph St.  41.884658 -87.647667  \n",
       "3            445 N. Clark St.  41.890523 -87.630783  \n",
       "4     914 Noyes St., Evanston  42.058322 -87.683748  \n",
       "5          825 W. Fulton Mkt.  41.886600 -87.648451  "
      ]
     },
     "execution_count": 110,
     "metadata": {},
     "output_type": "execute_result"
    }
   ],
   "source": [
    "df['lat'] = lat\n",
    "df['lng'] = lng\n",
    "df.head()"
   ]
  },
  {
   "cell_type": "code",
   "execution_count": 119,
   "metadata": {},
   "outputs": [
    {
     "data": {
      "text/html": [
       "<div style=\"width:100%;\"><div style=\"position:relative;width:100%;height:0;padding-bottom:60%;\"><span style=\"color:#565656\">Make this Notebook Trusted to load map: File -> Trust Notebook</span><iframe src=\"about:blank\" style=\"position:absolute;width:100%;height:100%;left:0;top:0;border:none !important;\" data-html=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 onload=\"this.contentDocument.open();this.contentDocument.write(atob(this.getAttribute('data-html')));this.contentDocument.close();\" allowfullscreen webkitallowfullscreen mozallowfullscreen></iframe></div></div>"
      ],
      "text/plain": [
       "<folium.folium.Map at 0x2f8198d2a08>"
      ]
     },
     "execution_count": 119,
     "metadata": {},
     "output_type": "execute_result"
    }
   ],
   "source": [
    "mapping = folium.Map(location=[df['lat'].mean(), df['lng'].mean()], \n",
    "                     zoom_start=11)\n",
    "folium.Marker([df['lat'].mean(), df['lng'].mean()], popup='center').add_to(mapping)\n",
    "\n",
    "mapping"
   ]
  },
  {
   "cell_type": "code",
   "execution_count": 118,
   "metadata": {},
   "outputs": [
    {
     "data": {
      "text/html": [
       "<div style=\"width:100%;\"><div style=\"position:relative;width:100%;height:0;padding-bottom:60%;\"><span style=\"color:#565656\">Make this Notebook Trusted to load map: File -> Trust Notebook</span><iframe src=\"about:blank\" style=\"position:absolute;width:100%;height:100%;left:0;top:0;border:none !important;\" data-html=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 onload=\"this.contentDocument.open();this.contentDocument.write(atob(this.getAttribute('data-html')));this.contentDocument.close();\" allowfullscreen webkitallowfullscreen mozallowfullscreen></iframe></div></div>"
      ],
      "text/plain": [
       "<folium.folium.Map at 0x2f819fea308>"
      ]
     },
     "execution_count": 118,
     "metadata": {},
     "output_type": "execute_result"
    }
   ],
   "source": [
    "mapping = folium.Map(location=[df['lat'].mean(), df['lng'].mean()], zoom_start=11)\n",
    "\n",
    "for n in df.index:\n",
    "    if df['address'][n] != 'Multiple':\n",
    "        folium.Marker([df['lat'][n], df['lng'][n]], popup=df['cafe'][n]).add_to(mapping)\n",
    "        \n",
    "mapping"
   ]
  },
  {
   "cell_type": "code",
   "execution_count": 120,
   "metadata": {},
   "outputs": [],
   "source": [
    "df.to_csv('chicago3.csv', sep=',', encoding=\"UTF-8\")"
   ]
  },
  {
   "cell_type": "code",
   "execution_count": null,
   "metadata": {},
   "outputs": [],
   "source": []
  }
 ],
 "metadata": {
  "kernelspec": {
   "display_name": "Python 3",
   "language": "python",
   "name": "python3"
  },
  "language_info": {
   "codemirror_mode": {
    "name": "ipython",
    "version": 3
   },
   "file_extension": ".py",
   "mimetype": "text/x-python",
   "name": "python",
   "nbconvert_exporter": "python",
   "pygments_lexer": "ipython3",
   "version": "3.7.6"
  }
 },
 "nbformat": 4,
 "nbformat_minor": 4
}
