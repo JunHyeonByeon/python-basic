{
 "cells": [
  {
   "cell_type": "code",
   "execution_count": 1,
   "metadata": {},
   "outputs": [],
   "source": [
    "from bs4 import BeautifulSoup\n",
    "from urllib.request import urlopen"
   ]
  },
  {
   "cell_type": "code",
   "execution_count": 2,
   "metadata": {},
   "outputs": [],
   "source": [
    "url_base = 'https://movie.naver.com'\n",
    "url_sub = '/movie/bi/mi/point.nhn?code=167633'\n",
    "html = urlopen(url_base + url_sub)\n",
    "soup = BeautifulSoup(html, 'html.parser')"
   ]
  },
  {
   "cell_type": "code",
   "execution_count": 3,
   "metadata": {},
   "outputs": [
    {
     "data": {
      "text/plain": [
       "'/movie/bi/mi/pointWriteFormList.nhn?code=167633&type=after&isActualPointWriteExecute=false&isMileageSubscriptionAlready=false&isMileageSubscriptionReject=false'"
      ]
     },
     "execution_count": 3,
     "metadata": {},
     "output_type": "execute_result"
    }
   ],
   "source": [
    "ifr_url = soup.find('iframe')['src']\n",
    "ifr_url"
   ]
  },
  {
   "cell_type": "code",
   "execution_count": 4,
   "metadata": {},
   "outputs": [],
   "source": [
    "url = url_base + ifr_url\n",
    "html = urlopen(url)\n",
    "soup = BeautifulSoup(html, 'html.parser')"
   ]
  },
  {
   "cell_type": "code",
   "execution_count": 7,
   "metadata": {},
   "outputs": [
    {
     "data": {
      "text/plain": [
       "<strong class=\"total\">관람객 평점 <em>462</em>건<button class=\"btn_review\" id=\"open-form-btn\">내 평점 등록</button></strong>"
      ]
     },
     "execution_count": 7,
     "metadata": {},
     "output_type": "execute_result"
    }
   ],
   "source": [
    "count = soup.find('strong', 'total')\n",
    "count"
   ]
  },
  {
   "cell_type": "code",
   "execution_count": 8,
   "metadata": {},
   "outputs": [
    {
     "data": {
      "text/plain": [
       "'462'"
      ]
     },
     "execution_count": 8,
     "metadata": {},
     "output_type": "execute_result"
    }
   ],
   "source": [
    "count = count.find('em').string   # get_text() 대신에 string\n",
    "count"
   ]
  },
  {
   "cell_type": "code",
   "execution_count": 9,
   "metadata": {},
   "outputs": [
    {
     "data": {
      "text/plain": [
       "462"
      ]
     },
     "execution_count": 9,
     "metadata": {},
     "output_type": "execute_result"
    }
   ],
   "source": [
    "count = int(count.replace(',',''))\n",
    "count"
   ]
  },
  {
   "cell_type": "code",
   "execution_count": 10,
   "metadata": {},
   "outputs": [
    {
     "data": {
      "text/plain": [
       "47"
      ]
     },
     "execution_count": 10,
     "metadata": {},
     "output_type": "execute_result"
    }
   ],
   "source": [
    "import math\n",
    "total_page = math.ceil(count/10)\n",
    "total_page"
   ]
  },
  {
   "cell_type": "code",
   "execution_count": 11,
   "metadata": {},
   "outputs": [
    {
     "name": "stdout",
     "output_type": "stream",
     "text": [
      "1 2 3 4 5 6 7 8 9 10 11 12 13 14 15 16 17 18 19 20 21 22 23 24 25 26 27 28 29 30 31 32 33 34 35 36 37 38 39 40 41 42 43 44 45 46 47 "
     ]
    }
   ],
   "source": [
    "point = []\n",
    "review = []\n",
    "date = []\n",
    "for page in range(1, total_page+1):\n",
    "    print(page, end=' ')\n",
    "    url = url_base + ifr_url + '&page=' + str(page)\n",
    "    html = urlopen(url)\n",
    "    soup = BeautifulSoup(html, 'html.parser')\n",
    "    result = soup.find(class_='score_result')\n",
    "    lis = result.find_all('li')\n",
    "    for li in lis:\n",
    "        score = li.find(class_='star_score').find('em').get_text()\n",
    "        score = int(score)\n",
    "        point.append(score)\n",
    "        count_span = len(li.find(class_='score_reple').find(class_='').find_all('span'))\n",
    "        count_icon = len(li.find_all(class_='ico_viewer'))\n",
    "        count_spo = len(li.find_all(class_='text_spo'))\n",
    "        criteria = str(count_span) + str(count_icon) + str(count_spo)\n",
    "        #print(criteria)\n",
    "        if criteria == '100':\n",
    "            r = li.find(class_='score_reple').find('span').string.strip(' \\t\\r\\n')\n",
    "        elif criteria == '200':\n",
    "            r = li.find(class_='score_reple').find('a')['data-src']\n",
    "        elif criteria == '210':\n",
    "            r = li.find(class_='score_reple').find_all('span')[1].string.strip(' \\t\\r\\n')\n",
    "        elif criteria == '310':\n",
    "            r = li.find(class_='score_reple').find('a')['data-src']\n",
    "        elif criteria == '311':\n",
    "            r = li.find(class_='score_reple').find_all('span')[2].string.strip(' \\t\\r\\n')\n",
    "        elif criteria == '201':\n",
    "            r = li.find(class_='score_reple').find_all('span')[1].string.strip(' \\t\\r\\n')\n",
    "\n",
    "        review.append(r)\n",
    "        date.append(li.find(class_='score_reple').find_all('em')[1].get_text())"
   ]
  },
  {
   "cell_type": "code",
   "execution_count": 13,
   "metadata": {},
   "outputs": [],
   "source": [
    "import pandas as pd"
   ]
  },
  {
   "cell_type": "code",
   "execution_count": 15,
   "metadata": {},
   "outputs": [
    {
     "data": {
      "text/html": [
       "<div>\n",
       "<style scoped>\n",
       "    .dataframe tbody tr th:only-of-type {\n",
       "        vertical-align: middle;\n",
       "    }\n",
       "\n",
       "    .dataframe tbody tr th {\n",
       "        vertical-align: top;\n",
       "    }\n",
       "\n",
       "    .dataframe thead th {\n",
       "        text-align: right;\n",
       "    }\n",
       "</style>\n",
       "<table border=\"1\" class=\"dataframe\">\n",
       "  <thead>\n",
       "    <tr style=\"text-align: right;\">\n",
       "      <th></th>\n",
       "      <th>평점</th>\n",
       "      <th>일시</th>\n",
       "      <th>감상평</th>\n",
       "    </tr>\n",
       "  </thead>\n",
       "  <tbody>\n",
       "    <tr>\n",
       "      <th>0</th>\n",
       "      <td>8</td>\n",
       "      <td>2019.06.26 21:54</td>\n",
       "      <td>발재간이 압권이었음. ㅋㅋㅋㅋ</td>\n",
       "    </tr>\n",
       "    <tr>\n",
       "      <th>1</th>\n",
       "      <td>7</td>\n",
       "      <td>2019.06.26 20:30</td>\n",
       "      <td>흐 지하실 내려가는 거 보고 미쳐 돌아버릴 뻔.. 밀대로 문 부수고 나가든 대가리를...</td>\n",
       "    </tr>\n",
       "    <tr>\n",
       "      <th>2</th>\n",
       "      <td>8</td>\n",
       "      <td>2019.06.26 22:49</td>\n",
       "      <td>친구하나 잘 사겼구먼.. 친구말을 잘 들읍시다</td>\n",
       "    </tr>\n",
       "    <tr>\n",
       "      <th>3</th>\n",
       "      <td>7</td>\n",
       "      <td>2019.06.27 00:09</td>\n",
       "      <td>그레타 연기 좋았고 영화 잘 봤지만, 쓰러뜨렸으면 일단 묶어놔 좀...</td>\n",
       "    </tr>\n",
       "    <tr>\n",
       "      <th>4</th>\n",
       "      <td>7</td>\n",
       "      <td>2019.06.26 20:20</td>\n",
       "      <td>아니 클레이 모레츠의 한 주먹꺼리던데 왜 암것두 못하냐구 ㅠ</td>\n",
       "    </tr>\n",
       "    <tr>\n",
       "      <th>...</th>\n",
       "      <td>...</td>\n",
       "      <td>...</td>\n",
       "      <td>...</td>\n",
       "    </tr>\n",
       "    <tr>\n",
       "      <th>457</th>\n",
       "      <td>4</td>\n",
       "      <td>2019.06.29 00:07</td>\n",
       "      <td>ㅎㅎ 결말 무엇 ㅎㅎ 보지마세욤 그냥 시종일관 고구마 먹는 느낌</td>\n",
       "    </tr>\n",
       "    <tr>\n",
       "      <th>458</th>\n",
       "      <td>9</td>\n",
       "      <td>2019.09.07 19:39</td>\n",
       "      <td>클레이 모레츠 재갈물려 묶여있는 모습 좋았어요..잘 쳤습니다.</td>\n",
       "    </tr>\n",
       "    <tr>\n",
       "      <th>459</th>\n",
       "      <td>6</td>\n",
       "      <td>2019.06.28 23:30</td>\n",
       "      <td>클로이 답답해서 뒈져버릴 뻔... 초반부터 공감안되긴 함.</td>\n",
       "    </tr>\n",
       "    <tr>\n",
       "      <th>460</th>\n",
       "      <td>2</td>\n",
       "      <td>2019.06.29 00:07</td>\n",
       "      <td>하 진짜 제발 보지마세요 최근본영화중에 제일 ㅈ같았고 너무 무리수임...</td>\n",
       "    </tr>\n",
       "    <tr>\n",
       "      <th>461</th>\n",
       "      <td>10</td>\n",
       "      <td>2019.06.27 09:28</td>\n",
       "      <td>관객들 소리지르고 점프하고 난리도 아니었습니다.</td>\n",
       "    </tr>\n",
       "  </tbody>\n",
       "</table>\n",
       "<p>462 rows × 3 columns</p>\n",
       "</div>"
      ],
      "text/plain": [
       "     평점                일시                                                감상평\n",
       "0     8  2019.06.26 21:54                                   발재간이 압권이었음. ㅋㅋㅋㅋ\n",
       "1     7  2019.06.26 20:30  흐 지하실 내려가는 거 보고 미쳐 돌아버릴 뻔.. 밀대로 문 부수고 나가든 대가리를...\n",
       "2     8  2019.06.26 22:49                          친구하나 잘 사겼구먼.. 친구말을 잘 들읍시다\n",
       "3     7  2019.06.27 00:09            그레타 연기 좋았고 영화 잘 봤지만, 쓰러뜨렸으면 일단 묶어놔 좀...\n",
       "4     7  2019.06.26 20:20                  아니 클레이 모레츠의 한 주먹꺼리던데 왜 암것두 못하냐구 ㅠ\n",
       "..   ..               ...                                                ...\n",
       "457   4  2019.06.29 00:07                ㅎㅎ 결말 무엇 ㅎㅎ 보지마세욤 그냥 시종일관 고구마 먹는 느낌\n",
       "458   9  2019.09.07 19:39                 클레이 모레츠 재갈물려 묶여있는 모습 좋았어요..잘 쳤습니다.\n",
       "459   6  2019.06.28 23:30                   클로이 답답해서 뒈져버릴 뻔... 초반부터 공감안되긴 함.\n",
       "460   2  2019.06.29 00:07           하 진짜 제발 보지마세요 최근본영화중에 제일 ㅈ같았고 너무 무리수임...\n",
       "461  10  2019.06.27 09:28                         관객들 소리지르고 점프하고 난리도 아니었습니다.\n",
       "\n",
       "[462 rows x 3 columns]"
      ]
     },
     "execution_count": 15,
     "metadata": {},
     "output_type": "execute_result"
    }
   ],
   "source": [
    "df = pd.DataFrame({'평점':point, '일시':date, '감상평':review})\n",
    "df"
   ]
  },
  {
   "cell_type": "code",
   "execution_count": null,
   "metadata": {},
   "outputs": [],
   "source": []
  }
 ],
 "metadata": {
  "kernelspec": {
   "display_name": "Python 3",
   "language": "python",
   "name": "python3"
  },
  "language_info": {
   "codemirror_mode": {
    "name": "ipython",
    "version": 3
   },
   "file_extension": ".py",
   "mimetype": "text/x-python",
   "name": "python",
   "nbconvert_exporter": "python",
   "pygments_lexer": "ipython3",
   "version": "3.7.6"
  }
 },
 "nbformat": 4,
 "nbformat_minor": 4
}
