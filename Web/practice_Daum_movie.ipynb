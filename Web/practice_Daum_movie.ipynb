{
 "cells": [
  {
   "cell_type": "markdown",
   "metadata": {},
   "source": [
    "# 다음 영화 평점 크롤링 - 마담 싸이코 2018"
   ]
  },
  {
   "cell_type": "markdown",
   "metadata": {},
   "source": [
    "## 첫번째 페이지"
   ]
  },
  {
   "cell_type": "code",
   "execution_count": 1,
   "metadata": {},
   "outputs": [],
   "source": [
    "from bs4 import BeautifulSoup\n",
    "from urllib.request import urlopen"
   ]
  },
  {
   "cell_type": "code",
   "execution_count": 2,
   "metadata": {},
   "outputs": [],
   "source": [
    "url_base = 'https://movie.daum.net'\n",
    "url_sub = '/moviedb/grade?movieId=107389'\n",
    "html = urlopen(url_base + url_sub)\n",
    "soup = BeautifulSoup(html, 'html.parser')"
   ]
  },
  {
   "cell_type": "code",
   "execution_count": 28,
   "metadata": {},
   "outputs": [
    {
     "data": {
      "text/plain": [
       "4"
      ]
     },
     "execution_count": 28,
     "metadata": {},
     "output_type": "execute_result"
    }
   ],
   "source": [
    "# 평점 데이터 찾기\n",
    "grade = soup.find(class_='emph_grade').get_text()\n",
    "grade = int(grade)\n",
    "grade"
   ]
  },
  {
   "cell_type": "code",
   "execution_count": 87,
   "metadata": {},
   "outputs": [
    {
     "data": {
      "text/plain": [
       "'그래 모든게 여자와 우연 때문이지.'"
      ]
     },
     "execution_count": 87,
     "metadata": {},
     "output_type": "execute_result"
    }
   ],
   "source": [
    "# 댓글 데이터 찾기\n",
    "reply = soup.find(class_='desc_review').get_text()\n",
    "reply = reply.strip('\\n \\n')\n",
    "reply"
   ]
  },
  {
   "cell_type": "code",
   "execution_count": 33,
   "metadata": {},
   "outputs": [
    {
     "data": {
      "text/plain": [
       "'2020.05.16, 10:38'"
      ]
     },
     "execution_count": 33,
     "metadata": {},
     "output_type": "execute_result"
    }
   ],
   "source": [
    "# 날짜 데이터 찾기\n",
    "date = soup.find(class_='info_append').get_text()\n",
    "date = date.strip('\\n \\n')\n",
    "date"
   ]
  },
  {
   "cell_type": "code",
   "execution_count": 72,
   "metadata": {},
   "outputs": [
    {
     "data": {
      "text/plain": [
       "<ul class=\"list_review list_netizen\">\n",
       "<li class=\"fst\"><!-- 첫번째 li에 fst 클래스 부여 --> <!-- 본인 의견일 경우 li클래스 on 부과 -->\n",
       "<div class=\"review_info\">\n",
       "<a class=\"link_review\" href=\"/other/moviePoint?uid=TlJMRg==&amp;nickName=yasiri\">\n",
       "<em class=\"link_profile\">yasiri</em>\n",
       "</a><!-- 님의 리뷰 --><!--2017-11-03 텍스트 삭제 님의 리뷰 -->\n",
       "<div class=\"raking_grade\">\n",
       "<span class=\"bg_star star_grade\"><span class=\"bg_star inner_star\" style=\"width:37.75%\">평점</span></span> <!-- 116px이 100%, % 계산에서 width값에 적용-->\n",
       "<em class=\"emph_grade\">4</em><span class=\"txt_grade\">/10</span>\n",
       "</div>\n",
       "<p class=\"desc_review\"> <!-- 모바일에서 더보기 클릭시 style=\"height:auto\" -->\n",
       "                                            그래 모든게 여자와 우연 때문이지.\n",
       "                                        </p>\n",
       "<div class=\"append_review\">\n",
       "<span class=\"info_append\">\n",
       "                                                                                            2020.05.16, 10:38\n",
       "                                                                                    </span>\n",
       "<span class=\"txt_bar\"></span><a class=\"link_report\" href=\"javascript:clickReportBtn(3299909);\">신고하기</a>\n",
       "</div>\n",
       "<a class=\"link_delete\" href=\"javascript:;\" onclick=\"deleteComment(3299909); return false;\">삭제</a>\n",
       "</div>\n",
       "</li>\n",
       "<li class=\"\"><!-- 첫번째 li에 fst 클래스 부여 --> <!-- 본인 의견일 경우 li클래스 on 부과 -->\n",
       "<div class=\"review_info\">\n",
       "<a class=\"link_review\" href=\"/other/moviePoint?uid=MmlxbXU=&amp;nickName=tneke\">\n",
       "<em class=\"link_profile\">tneke</em>\n",
       "</a><!-- 님의 리뷰 --><!--2017-11-03 텍스트 삭제 님의 리뷰 -->\n",
       "<div class=\"raking_grade\">\n",
       "<span class=\"bg_star star_grade\"><span class=\"bg_star inner_star\" style=\"width:50.0%\">평점</span></span> <!-- 116px이 100%, % 계산에서 width값에 적용-->\n",
       "<em class=\"emph_grade\">5</em><span class=\"txt_grade\">/10</span>\n",
       "</div>\n",
       "<p class=\"desc_review\"> <!-- 모바일에서 더보기 클릭시 style=\"height:auto\" -->\n",
       "</p>\n",
       "<div class=\"append_review\">\n",
       "<span class=\"info_append\">\n",
       "                                                                                            2020.05.09, 06:01\n",
       "                                                                                    </span>\n",
       "<span class=\"txt_bar\"></span><a class=\"link_report\" href=\"javascript:clickReportBtn(3297642);\">신고하기</a>\n",
       "</div>\n",
       "<a class=\"link_delete\" href=\"javascript:;\" onclick=\"deleteComment(3297642); return false;\">삭제</a>\n",
       "</div>\n",
       "</li>\n",
       "<li class=\"\"><!-- 첫번째 li에 fst 클래스 부여 --> <!-- 본인 의견일 경우 li클래스 on 부과 -->\n",
       "<div class=\"review_info\">\n",
       "<a class=\"link_review\" href=\"/other/moviePoint?uid=Q1huSkQ=&amp;nickName=%EC%9D%B4%EC%A0%84\">\n",
       "<em class=\"link_profile\">이전</em>\n",
       "</a><!-- 님의 리뷰 --><!--2017-11-03 텍스트 삭제 님의 리뷰 -->\n",
       "<div class=\"raking_grade\">\n",
       "<span class=\"bg_star star_grade\"><span class=\"bg_star inner_star\" style=\"width:29.25%\">평점</span></span> <!-- 116px이 100%, % 계산에서 width값에 적용-->\n",
       "<em class=\"emph_grade\">3</em><span class=\"txt_grade\">/10</span>\n",
       "</div>\n",
       "<p class=\"desc_review\"> <!-- 모바일에서 더보기 클릭시 style=\"height:auto\" -->\n",
       "                                            해피앤딩을 만들려고 어거지로 뜯어맞추네   주인공이 너무약샵해\n",
       "<br/>어린아이앞에서 사람을너무죽이는거아냐\n",
       "<br/>라스트때문에 영화를 다말아먹었네\n",
       "<br/>\n",
       "</p>\n",
       "<div class=\"append_review\">\n",
       "<span class=\"info_append\">\n",
       "                                                                                            2020.02.24, 20:12\n",
       "                                                                                    </span>\n",
       "<span class=\"txt_bar\"></span><a class=\"link_report\" href=\"javascript:clickReportBtn(3266097);\">신고하기</a>\n",
       "</div>\n",
       "<a class=\"link_delete\" href=\"javascript:;\" onclick=\"deleteComment(3266097); return false;\">삭제</a>\n",
       "</div>\n",
       "</li>\n",
       "<li class=\"\"><!-- 첫번째 li에 fst 클래스 부여 --> <!-- 본인 의견일 경우 li클래스 on 부과 -->\n",
       "<div class=\"review_info\">\n",
       "<a class=\"link_review\" href=\"/other/moviePoint?uid=d1Zveg==&amp;nickName=%EB%94%94%EC%A0%9C%EC%9D%B4%ED%8C%8C%ED%81%AC\">\n",
       "<em class=\"link_profile\">디제이파크</em>\n",
       "</a><!-- 님의 리뷰 --><!--2017-11-03 텍스트 삭제 님의 리뷰 -->\n",
       "<div class=\"raking_grade\">\n",
       "<span class=\"bg_star star_grade\"><span class=\"bg_star inner_star\" style=\"width:50.0%\">평점</span></span> <!-- 116px이 100%, % 계산에서 width값에 적용-->\n",
       "<em class=\"emph_grade\">5</em><span class=\"txt_grade\">/10</span>\n",
       "</div>\n",
       "<p class=\"desc_review\"> <!-- 모바일에서 더보기 클릭시 style=\"height:auto\" -->\n",
       "                                            재미있으면서도 몇% 부족한 느낌\n",
       "                                        </p>\n",
       "<div class=\"append_review\">\n",
       "<span class=\"info_append\">\n",
       "                                                                                            2020.02.15, 22:49\n",
       "                                                                                    </span>\n",
       "<span class=\"txt_bar\"></span><a class=\"link_report\" href=\"javascript:clickReportBtn(3260856);\">신고하기</a>\n",
       "</div>\n",
       "<a class=\"link_delete\" href=\"javascript:;\" onclick=\"deleteComment(3260856); return false;\">삭제</a>\n",
       "</div>\n",
       "</li>\n",
       "<li class=\"\"><!-- 첫번째 li에 fst 클래스 부여 --> <!-- 본인 의견일 경우 li클래스 on 부과 -->\n",
       "<div class=\"review_info\">\n",
       "<a class=\"link_review\" href=\"/other/moviePoint?uid=RExQcDY=&amp;nickName=%EC%98%81%ED%99%94%EA%B0%80+%EC%A1%B0%EC%95%99\">\n",
       "<em class=\"link_profile\">영화가 조앙</em>\n",
       "</a><!-- 님의 리뷰 --><!--2017-11-03 텍스트 삭제 님의 리뷰 -->\n",
       "<div class=\"raking_grade\">\n",
       "<span class=\"bg_star star_grade\"><span class=\"bg_star inner_star\" style=\"width:70.75%\">평점</span></span> <!-- 116px이 100%, % 계산에서 width값에 적용-->\n",
       "<em class=\"emph_grade\">7</em><span class=\"txt_grade\">/10</span>\n",
       "</div>\n",
       "<p class=\"desc_review\"> <!-- 모바일에서 더보기 클릭시 style=\"height:auto\" -->\n",
       "                                            잼나게봄\n",
       "                                        </p>\n",
       "<div class=\"append_review\">\n",
       "<span class=\"info_append\">\n",
       "                                                                                            2020.01.26, 11:10\n",
       "                                                                                    </span>\n",
       "<span class=\"txt_bar\"></span><a class=\"link_report\" href=\"javascript:clickReportBtn(3247507);\">신고하기</a>\n",
       "</div>\n",
       "<a class=\"link_delete\" href=\"javascript:;\" onclick=\"deleteComment(3247507); return false;\">삭제</a>\n",
       "</div>\n",
       "</li>\n",
       "<li class=\"\"><!-- 첫번째 li에 fst 클래스 부여 --> <!-- 본인 의견일 경우 li클래스 on 부과 -->\n",
       "<div class=\"review_info\">\n",
       "<a class=\"link_review\" href=\"/other/moviePoint?uid=NENocnY=&amp;nickName=%EB%90%9C%EC%9E%A5%EB%A7%9B+%EB%AA%A8%EB%8B%9D%EC%BB%A4%ED%94%BC\">\n",
       "<em class=\"link_profile\">된장맛 모닝커피</em>\n",
       "</a><!-- 님의 리뷰 --><!--2017-11-03 텍스트 삭제 님의 리뷰 -->\n",
       "<div class=\"raking_grade\">\n",
       "<span class=\"bg_star star_grade\"><span class=\"bg_star inner_star\" style=\"width:58.5%\">평점</span></span> <!-- 116px이 100%, % 계산에서 width값에 적용-->\n",
       "<em class=\"emph_grade\">6</em><span class=\"txt_grade\">/10</span>\n",
       "</div>\n",
       "<p class=\"desc_review\"> <!-- 모바일에서 더보기 클릭시 style=\"height:auto\" -->\n",
       "                                            의외로 잘만들었네.\n",
       "                                        </p>\n",
       "<div class=\"append_review\">\n",
       "<span class=\"info_append\">\n",
       "                                                                                            2019.10.19, 19:44\n",
       "                                                                                    </span>\n",
       "<span class=\"txt_bar\"></span><a class=\"link_report\" href=\"javascript:clickReportBtn(3178288);\">신고하기</a>\n",
       "</div>\n",
       "<a class=\"link_delete\" href=\"javascript:;\" onclick=\"deleteComment(3178288); return false;\">삭제</a>\n",
       "</div>\n",
       "</li>\n",
       "<li class=\"\"><!-- 첫번째 li에 fst 클래스 부여 --> <!-- 본인 의견일 경우 li클래스 on 부과 -->\n",
       "<div class=\"review_info\">\n",
       "<a class=\"link_review\" href=\"/other/moviePoint?uid=MXJ6eGE=&amp;nickName=%EC%93%B0%EC%9D%8D\">\n",
       "<em class=\"link_profile\">쓰읍</em>\n",
       "</a><!-- 님의 리뷰 --><!--2017-11-03 텍스트 삭제 님의 리뷰 -->\n",
       "<div class=\"raking_grade\">\n",
       "<span class=\"bg_star star_grade\"><span class=\"bg_star inner_star\" style=\"width:70.75%\">평점</span></span> <!-- 116px이 100%, % 계산에서 width값에 적용-->\n",
       "<em class=\"emph_grade\">7</em><span class=\"txt_grade\">/10</span>\n",
       "</div>\n",
       "<p class=\"desc_review\"> <!-- 모바일에서 더보기 클릭시 style=\"height:auto\" -->\n",
       "</p>\n",
       "<div class=\"append_review\">\n",
       "<span class=\"info_append\">\n",
       "                                                                                            2019.07.22, 16:06\n",
       "                                                                                    </span>\n",
       "<span class=\"txt_bar\"></span><a class=\"link_report\" href=\"javascript:clickReportBtn(3109474);\">신고하기</a>\n",
       "</div>\n",
       "<a class=\"link_delete\" href=\"javascript:;\" onclick=\"deleteComment(3109474); return false;\">삭제</a>\n",
       "</div>\n",
       "</li>\n",
       "<li class=\"\"><!-- 첫번째 li에 fst 클래스 부여 --> <!-- 본인 의견일 경우 li클래스 on 부과 -->\n",
       "<div class=\"review_info\">\n",
       "<a class=\"link_review\" href=\"/other/moviePoint?uid=NGkxWVg=&amp;nickName=%EA%B3%A8%EB%93%9C%EC%8A%A4%ED%83%80\">\n",
       "<em class=\"link_profile\">골드스타</em>\n",
       "</a><!-- 님의 리뷰 --><!--2017-11-03 텍스트 삭제 님의 리뷰 -->\n",
       "<div class=\"raking_grade\">\n",
       "<span class=\"bg_star star_grade\"><span class=\"bg_star inner_star\" style=\"width:100.0%\">평점</span></span> <!-- 116px이 100%, % 계산에서 width값에 적용-->\n",
       "<em class=\"emph_grade\">10</em><span class=\"txt_grade\">/10</span>\n",
       "</div>\n",
       "<p class=\"desc_review\"> <!-- 모바일에서 더보기 클릭시 style=\"height:auto\" -->\n",
       "                                            기대 안하고 봤는데, 기상천외한 영화.  잘봤어요~\n",
       "                                        </p>\n",
       "<div class=\"append_review\">\n",
       "<span class=\"info_append\">\n",
       "                                                                                            2019.07.10, 20:28\n",
       "                                                                                    </span>\n",
       "<span class=\"txt_bar\"></span><a class=\"link_report\" href=\"javascript:clickReportBtn(3102729);\">신고하기</a>\n",
       "</div>\n",
       "<a class=\"link_delete\" href=\"javascript:;\" onclick=\"deleteComment(3102729); return false;\">삭제</a>\n",
       "</div>\n",
       "</li>\n",
       "<li class=\"\"><!-- 첫번째 li에 fst 클래스 부여 --> <!-- 본인 의견일 경우 li클래스 on 부과 -->\n",
       "<div class=\"review_info\">\n",
       "<a class=\"link_review\" href=\"/other/moviePoint?uid=bDJ4aA==&amp;nickName=%EB%82%B4%EC%86%8C%EB%A7%9Dv\">\n",
       "<em class=\"link_profile\">내소망v</em>\n",
       "</a><!-- 님의 리뷰 --><!--2017-11-03 텍스트 삭제 님의 리뷰 -->\n",
       "<div class=\"raking_grade\">\n",
       "<span class=\"bg_star star_grade\"><span class=\"bg_star inner_star\" style=\"width:70.75%\">평점</span></span> <!-- 116px이 100%, % 계산에서 width값에 적용-->\n",
       "<em class=\"emph_grade\">7</em><span class=\"txt_grade\">/10</span>\n",
       "</div>\n",
       "<p class=\"desc_review\"> <!-- 모바일에서 더보기 클릭시 style=\"height:auto\" -->\n",
       "</p>\n",
       "<div class=\"append_review\">\n",
       "<span class=\"info_append\">\n",
       "                                                                                            2019.06.29, 01:31\n",
       "                                                                                    </span>\n",
       "<span class=\"txt_bar\"></span><a class=\"link_report\" href=\"javascript:clickReportBtn(3096546);\">신고하기</a>\n",
       "</div>\n",
       "<a class=\"link_delete\" href=\"javascript:;\" onclick=\"deleteComment(3096546); return false;\">삭제</a>\n",
       "</div>\n",
       "</li>\n",
       "<li class=\"\"><!-- 첫번째 li에 fst 클래스 부여 --> <!-- 본인 의견일 경우 li클래스 on 부과 -->\n",
       "<div class=\"review_info\">\n",
       "<a class=\"link_review\" href=\"/other/moviePoint?uid=OTNaWg==&amp;nickName=shinbat\">\n",
       "<em class=\"link_profile\">shinbat</em>\n",
       "</a><!-- 님의 리뷰 --><!--2017-11-03 텍스트 삭제 님의 리뷰 -->\n",
       "<div class=\"raking_grade\">\n",
       "<span class=\"bg_star star_grade\"><span class=\"bg_star inner_star\" style=\"width:100.0%\">평점</span></span> <!-- 116px이 100%, % 계산에서 width값에 적용-->\n",
       "<em class=\"emph_grade\">10</em><span class=\"txt_grade\">/10</span>\n",
       "</div>\n",
       "<p class=\"desc_review\"> <!-- 모바일에서 더보기 클릭시 style=\"height:auto\" -->\n",
       "                                            스릴러의 진수를 보여준다.\n",
       "                                        </p>\n",
       "<div class=\"append_review\">\n",
       "<span class=\"info_append\">\n",
       "                                                                                            2019.05.27, 18:00\n",
       "                                                                                    </span>\n",
       "<span class=\"txt_bar\"></span><a class=\"link_report\" href=\"javascript:clickReportBtn(3074350);\">신고하기</a>\n",
       "</div>\n",
       "<a class=\"link_delete\" href=\"javascript:;\" onclick=\"deleteComment(3074350); return false;\">삭제</a>\n",
       "</div>\n",
       "</li>\n",
       "</ul>"
      ]
     },
     "execution_count": 72,
     "metadata": {},
     "output_type": "execute_result"
    }
   ],
   "source": [
    "result = soup.find(class_='list_review list_netizen')\n",
    "result"
   ]
  },
  {
   "cell_type": "code",
   "execution_count": 73,
   "metadata": {},
   "outputs": [
    {
     "data": {
      "text/plain": [
       "<li class=\"fst\"><!-- 첫번째 li에 fst 클래스 부여 --> <!-- 본인 의견일 경우 li클래스 on 부과 -->\n",
       "<div class=\"review_info\">\n",
       "<a class=\"link_review\" href=\"/other/moviePoint?uid=TlJMRg==&amp;nickName=yasiri\">\n",
       "<em class=\"link_profile\">yasiri</em>\n",
       "</a><!-- 님의 리뷰 --><!--2017-11-03 텍스트 삭제 님의 리뷰 -->\n",
       "<div class=\"raking_grade\">\n",
       "<span class=\"bg_star star_grade\"><span class=\"bg_star inner_star\" style=\"width:37.75%\">평점</span></span> <!-- 116px이 100%, % 계산에서 width값에 적용-->\n",
       "<em class=\"emph_grade\">4</em><span class=\"txt_grade\">/10</span>\n",
       "</div>\n",
       "<p class=\"desc_review\"> <!-- 모바일에서 더보기 클릭시 style=\"height:auto\" -->\n",
       "                                            그래 모든게 여자와 우연 때문이지.\n",
       "                                        </p>\n",
       "<div class=\"append_review\">\n",
       "<span class=\"info_append\">\n",
       "                                                                                            2020.05.16, 10:38\n",
       "                                                                                    </span>\n",
       "<span class=\"txt_bar\"></span><a class=\"link_report\" href=\"javascript:clickReportBtn(3299909);\">신고하기</a>\n",
       "</div>\n",
       "<a class=\"link_delete\" href=\"javascript:;\" onclick=\"deleteComment(3299909); return false;\">삭제</a>\n",
       "</div>\n",
       "</li>"
      ]
     },
     "execution_count": 73,
     "metadata": {},
     "output_type": "execute_result"
    }
   ],
   "source": [
    "lis = result.find_all('li')\n",
    "li = lis[0]\n",
    "li"
   ]
  },
  {
   "cell_type": "code",
   "execution_count": 88,
   "metadata": {},
   "outputs": [
    {
     "name": "stdout",
     "output_type": "stream",
     "text": [
      "4\n",
      "5\n",
      "3\n",
      "5\n",
      "7\n",
      "6\n",
      "7\n",
      "10\n",
      "7\n",
      "10\n"
     ]
    }
   ],
   "source": [
    "score = []\n",
    "date = []\n",
    "reply = []\n",
    "\n",
    "for li in lis:\n",
    "    grade = li.find(class_='emph_grade').get_text()\n",
    "    grade = int(grade)\n",
    "    print(grade)\n",
    "    score.append(grade)\n",
    "    date.append(li.find(class_='info_append').get_text().strip('\\n \\n'))\n",
    "    reply.append(li.find(class_='desc_review').get_text().strip('\\n \\n'))"
   ]
  },
  {
   "cell_type": "code",
   "execution_count": 89,
   "metadata": {},
   "outputs": [
    {
     "data": {
      "text/html": [
       "<div>\n",
       "<style scoped>\n",
       "    .dataframe tbody tr th:only-of-type {\n",
       "        vertical-align: middle;\n",
       "    }\n",
       "\n",
       "    .dataframe tbody tr th {\n",
       "        vertical-align: top;\n",
       "    }\n",
       "\n",
       "    .dataframe thead th {\n",
       "        text-align: right;\n",
       "    }\n",
       "</style>\n",
       "<table border=\"1\" class=\"dataframe\">\n",
       "  <thead>\n",
       "    <tr style=\"text-align: right;\">\n",
       "      <th></th>\n",
       "      <th>평점</th>\n",
       "      <th>일시</th>\n",
       "      <th>감상평</th>\n",
       "    </tr>\n",
       "  </thead>\n",
       "  <tbody>\n",
       "    <tr>\n",
       "      <th>0</th>\n",
       "      <td>4</td>\n",
       "      <td>2020.05.16, 10:38</td>\n",
       "      <td>그래 모든게 여자와 우연 때문이지.</td>\n",
       "    </tr>\n",
       "    <tr>\n",
       "      <th>1</th>\n",
       "      <td>5</td>\n",
       "      <td>2020.05.09, 06:01</td>\n",
       "      <td></td>\n",
       "    </tr>\n",
       "    <tr>\n",
       "      <th>2</th>\n",
       "      <td>3</td>\n",
       "      <td>2020.02.24, 20:12</td>\n",
       "      <td>해피앤딩을 만들려고 어거지로 뜯어맞추네   주인공이 너무약샵해\\r어린아이앞에서 사람...</td>\n",
       "    </tr>\n",
       "    <tr>\n",
       "      <th>3</th>\n",
       "      <td>5</td>\n",
       "      <td>2020.02.15, 22:49</td>\n",
       "      <td>재미있으면서도 몇% 부족한 느낌</td>\n",
       "    </tr>\n",
       "    <tr>\n",
       "      <th>4</th>\n",
       "      <td>7</td>\n",
       "      <td>2020.01.26, 11:10</td>\n",
       "      <td>잼나게봄</td>\n",
       "    </tr>\n",
       "    <tr>\n",
       "      <th>5</th>\n",
       "      <td>6</td>\n",
       "      <td>2019.10.19, 19:44</td>\n",
       "      <td>의외로 잘만들었네.</td>\n",
       "    </tr>\n",
       "    <tr>\n",
       "      <th>6</th>\n",
       "      <td>7</td>\n",
       "      <td>2019.07.22, 16:06</td>\n",
       "      <td></td>\n",
       "    </tr>\n",
       "    <tr>\n",
       "      <th>7</th>\n",
       "      <td>10</td>\n",
       "      <td>2019.07.10, 20:28</td>\n",
       "      <td>기대 안하고 봤는데, 기상천외한 영화.  잘봤어요~</td>\n",
       "    </tr>\n",
       "    <tr>\n",
       "      <th>8</th>\n",
       "      <td>7</td>\n",
       "      <td>2019.06.29, 01:31</td>\n",
       "      <td></td>\n",
       "    </tr>\n",
       "    <tr>\n",
       "      <th>9</th>\n",
       "      <td>10</td>\n",
       "      <td>2019.05.27, 18:00</td>\n",
       "      <td>스릴러의 진수를 보여준다.</td>\n",
       "    </tr>\n",
       "  </tbody>\n",
       "</table>\n",
       "</div>"
      ],
      "text/plain": [
       "   평점                 일시                                                감상평\n",
       "0   4  2020.05.16, 10:38                                그래 모든게 여자와 우연 때문이지.\n",
       "1   5  2020.05.09, 06:01                                                   \n",
       "2   3  2020.02.24, 20:12  해피앤딩을 만들려고 어거지로 뜯어맞추네   주인공이 너무약샵해\\r어린아이앞에서 사람...\n",
       "3   5  2020.02.15, 22:49                                  재미있으면서도 몇% 부족한 느낌\n",
       "4   7  2020.01.26, 11:10                                               잼나게봄\n",
       "5   6  2019.10.19, 19:44                                         의외로 잘만들었네.\n",
       "6   7  2019.07.22, 16:06                                                   \n",
       "7  10  2019.07.10, 20:28                       기대 안하고 봤는데, 기상천외한 영화.  잘봤어요~\n",
       "8   7  2019.06.29, 01:31                                                   \n",
       "9  10  2019.05.27, 18:00                                     스릴러의 진수를 보여준다."
      ]
     },
     "execution_count": 89,
     "metadata": {},
     "output_type": "execute_result"
    }
   ],
   "source": [
    "import pandas as pd\n",
    "\n",
    "df = pd.DataFrame({'평점':score, '일시':date, '감상평':reply})\n",
    "df"
   ]
  },
  {
   "cell_type": "code",
   "execution_count": null,
   "metadata": {},
   "outputs": [],
   "source": []
  }
 ],
 "metadata": {
  "kernelspec": {
   "display_name": "Python 3",
   "language": "python",
   "name": "python3"
  },
  "language_info": {
   "codemirror_mode": {
    "name": "ipython",
    "version": 3
   },
   "file_extension": ".py",
   "mimetype": "text/x-python",
   "name": "python",
   "nbconvert_exporter": "python",
   "pygments_lexer": "ipython3",
   "version": "3.7.6"
  }
 },
 "nbformat": 4,
 "nbformat_minor": 4
}
