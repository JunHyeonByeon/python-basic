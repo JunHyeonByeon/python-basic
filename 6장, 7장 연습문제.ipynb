{
 "cells": [
  {
   "cell_type": "markdown",
   "metadata": {},
   "source": [
    "# 6장 연습문제 튜플과 딕셔너리"
   ]
  },
  {
   "cell_type": "code",
   "execution_count": 7,
   "metadata": {},
   "outputs": [
    {
     "name": "stdout",
     "output_type": "stream",
     "text": [
      "1. 아이디 : kim99, 마일리지: 12000점\n",
      "2. 아이디 : lee66, 마일리지: 11000점\n",
      "3. 아이디 : han55, 마일리지: 3000점\n",
      "4. 아이디 : hong77, 마일리지: 5000점\n",
      "5. 아이디 : hwang33, 마일리지: 18000점\n"
     ]
    }
   ],
   "source": [
    "# 1.\n",
    "data = {'kim99': 12000, 'lee66':11000, 'han55':3000, 'hong77':5000, 'hwang33':18000}\n",
    "\n",
    "num = 1\n",
    "for key in data :\n",
    "    print('%d. 아이디 : %s, 마일리지: %d점' % (num, key, data[key]))\n",
    "    num += 1"
   ]
  },
  {
   "cell_type": "code",
   "execution_count": 12,
   "metadata": {},
   "outputs": [
    {
     "name": "stdout",
     "output_type": "stream",
     "text": [
      "전체 딕셔너리 : {'kim99': 12000, 'lee66': 11000, 'han55': 3000, 'hong77': 5000, 'hwang33': 18000, 'jang88': 7000}\n",
      "jang88님의 마일리지(7000점)가 추가 되었습니다.\n"
     ]
    }
   ],
   "source": [
    "# 3.\n",
    "data = {'kim99': 12000, 'lee66':11000, 'han55':3000, 'hong77':5000, 'hwang33':18000}\n",
    "\n",
    "data['jang88'] = 7000\n",
    "\n",
    "print('전체 딕셔너리 : %s' % data)\n",
    "for key in data :\n",
    "    if key == 'jang88' :\n",
    "        print('%s님의 마일리지(%d점)가 추가 되었습니다.' % (key, data[key]))\n"
   ]
  },
  {
   "cell_type": "code",
   "execution_count": 21,
   "metadata": {},
   "outputs": [
    {
     "name": "stdout",
     "output_type": "stream",
     "text": [
      "--------------------------------------------------\n",
      "   월    화    수    목    금    토    일\n",
      "--------------------------------------------------\n",
      "  25.5  28.3  33.2  32.1  17.3  35.3  33.3\n",
      "--------------------------------------------------\n"
     ]
    }
   ],
   "source": [
    "# 5.\n",
    "temp = {'월':25.5, '화':28.3, '수':33.2, '목':32.1, '금':17.3, '토':35.3, '일':33.3}\n",
    "\n",
    "print('-'*50)\n",
    "print('   월    화    수    목    금    토    일')\n",
    "print('-'*50)\n",
    "for key in temp :\n",
    "    print('%6.1f' % temp[key], end = '')\n",
    "          \n",
    "print()\n",
    "print('-'*50)\n"
   ]
  },
  {
   "cell_type": "code",
   "execution_count": 41,
   "metadata": {},
   "outputs": [
    {
     "name": "stdout",
     "output_type": "stream",
     "text": [
      "기온이 30˚ 이상인 요일 : 수, 목, 토, 일, "
     ]
    }
   ],
   "source": [
    "# 7.\n",
    "temp = {'월':25.5, '화':28.3, '수':33.2, '목':32.1, '금':17.3, '토':35.3, '일':33.3}\n",
    "\n",
    "days = []\n",
    "for key in temp :\n",
    "    if temp[key] >= 30 :\n",
    "                days.append(key)   \n",
    "print('기온이 30˚ 이상인 요일 : ', end='')    \n",
    "for i in range(len(days)) :\n",
    "    print('%s' % days[i], end=', ')"
   ]
  },
  {
   "cell_type": "markdown",
   "metadata": {},
   "source": [
    "# 7장 연습문제 함수"
   ]
  },
  {
   "cell_type": "code",
   "execution_count": 49,
   "metadata": {},
   "outputs": [
    {
     "name": "stdout",
     "output_type": "stream",
     "text": [
      "20,10\n"
     ]
    }
   ],
   "source": [
    "# 1.\n",
    "def f1(a):\n",
    "    a += 10\n",
    "    print(a, end=',')\n",
    "    \n",
    "a = 10\n",
    "f1(a)\n",
    "print(a)"
   ]
  },
  {
   "cell_type": "code",
   "execution_count": 58,
   "metadata": {},
   "outputs": [
    {
     "name": "stdout",
     "output_type": "stream",
     "text": [
      "n값을 입력해 주세요 : 20\n",
      "2 ~ 20까지의 정수 중 소수 : 2 3 5 7 11 13 17 19 "
     ]
    }
   ],
   "source": [
    "# 3. \n",
    "def isPrimeNumber(num) :\n",
    "    prime_yes = True \n",
    "    for i in range(2, num) : \n",
    "        if num % i == 0 : \n",
    "            prime_yes = False \n",
    "            break\n",
    "    return prime_yes\n",
    "      \n",
    "n = int(input('n값을 입력해 주세요 : '))\n",
    "\n",
    "print('2 ~ %d까지의 정수 중 소수 :' % n, end = ' ')      \n",
    "for a in range(2, n+1) :\n",
    "    is_prime = isPrimeNumber(a)\n",
    "    if is_prime :\n",
    "        print(a, end=' ')"
   ]
  },
  {
   "cell_type": "code",
   "execution_count": 2,
   "metadata": {},
   "outputs": [
    {
     "name": "stdout",
     "output_type": "stream",
     "text": [
      "[1, 4, 9, 16, 25]\n"
     ]
    }
   ],
   "source": [
    "# 5.\n",
    "def numSquare(num):\n",
    "    list_new = []\n",
    "    for i in range(1, num+1):\n",
    "        list_new.append(i**2)\n",
    "        \n",
    "    return list_new\n",
    "\n",
    "n = 5\n",
    "result = numSquare(n)\n",
    "print(result)"
   ]
  },
  {
   "cell_type": "code",
   "execution_count": 3,
   "metadata": {},
   "outputs": [
    {
     "name": "stdout",
     "output_type": "stream",
     "text": [
      "비밀번호는 10자리 이상, 영문 대문자를 포함하여야 합니다.\n",
      "비밀 번호 : A123456789\n",
      "비밀 번호 확인: A123456789\n",
      "유효한 비밀번호입니다~~~\n"
     ]
    }
   ],
   "source": [
    "# 7.\n",
    "print(\"비밀번호는 10자리 이상, 영문 대문자를 포함하여야 합니다.\")\n",
    "def valid(passwd):\n",
    "        passwd_cof = input(\"비밀 번호 확인: \")\n",
    "        if passwd != passwd_cof:\n",
    "            print('비밀번호가 잘못되었습니다! 다시 입력해주세요')\n",
    "            return\n",
    "        if len(passwd) < 10:\n",
    "            print('비밀번호가 잘못되었습니다! 다시 입력해주세요')\n",
    "            return\n",
    "        for c in passwd:\n",
    "            if passwd >= 'A' and passwd <= 'Z':\n",
    "                print('유효한 비밀번호입니다~~~')\n",
    "                count = 1\n",
    "                return count\n",
    "            else:\n",
    "                print('비밀번호가 잘못되었습니다! 다시 입력해주세요')\n",
    "\n",
    "while True:\n",
    "    count = 0\n",
    "    passwd = input(\"비밀 번호 : \")\n",
    "    count = valid(passwd)\n",
    "\n",
    "    if count == 1:\n",
    "        break"
   ]
  },
  {
   "cell_type": "code",
   "execution_count": null,
   "metadata": {},
   "outputs": [],
   "source": []
  }
 ],
 "metadata": {
  "kernelspec": {
   "display_name": "Python 3",
   "language": "python",
   "name": "python3"
  },
  "language_info": {
   "codemirror_mode": {
    "name": "ipython",
    "version": 3
   },
   "file_extension": ".py",
   "mimetype": "text/x-python",
   "name": "python",
   "nbconvert_exporter": "python",
   "pygments_lexer": "ipython3",
   "version": "3.7.6"
  }
 },
 "nbformat": 4,
 "nbformat_minor": 4
}
